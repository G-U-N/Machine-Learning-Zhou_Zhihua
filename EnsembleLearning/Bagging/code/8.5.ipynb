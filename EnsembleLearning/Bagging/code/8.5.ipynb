{
 "cells": [
  {
   "cell_type": "markdown",
   "metadata": {},
   "source": [
    "# Problem 8.5\n",
    "# Implemetation of Bagging"
   ]
  },
  {
   "cell_type": "code",
   "execution_count": 1,
   "metadata": {
    "collapsed": true
   },
   "outputs": [],
   "source": [
    "import pandas as pd\n",
    "import numpy as np\n",
    "from sklearn.tree import DecisionTreeClassifier"
   ]
  },
  {
   "cell_type": "markdown",
   "metadata": {},
   "source": [
    "# 0. Pre-Processing"
   ]
  },
  {
   "cell_type": "code",
   "execution_count": 2,
   "metadata": {
    "collapsed": true
   },
   "outputs": [],
   "source": [
    "def dummies_fit(df):\n",
    "    dummies_dict = {}\n",
    "    for column in df.columns:\n",
    "        if not np.issubdtype(df[column].dtype, np.number):\n",
    "            dummies_dict[column] = {}\n",
    "            i = 0\n",
    "            for value in set(df[column].values):\n",
    "                dummies_dict[column][value] = i\n",
    "                i += 1\n",
    "    return dummies_dict"
   ]
  },
  {
   "cell_type": "code",
   "execution_count": 3,
   "metadata": {
    "collapsed": true
   },
   "outputs": [],
   "source": [
    "def dummies_transfer(df, dum_dict):\n",
    "    for column in df.columns:\n",
    "        if column in dum_dict.keys():\n",
    "            for key in dum_dict[column]:\n",
    "                df.loc[df[column] == key, column] = dum_dict[column][key]"
   ]
  },
  {
   "cell_type": "markdown",
   "metadata": {},
   "source": [
    "# 1. Accuracy"
   ]
  },
  {
   "cell_type": "code",
   "execution_count": 4,
   "metadata": {
    "collapsed": true
   },
   "outputs": [],
   "source": [
    "# accuracy computation\n",
    "def accuracy(y, pred):\n",
    "    return np.sum(y == pred) / float(len(y))"
   ]
  },
  {
   "cell_type": "markdown",
   "metadata": {},
   "source": [
    "# 2. Bagging"
   ]
  },
  {
   "cell_type": "code",
   "execution_count": 27,
   "metadata": {
    "collapsed": true
   },
   "outputs": [],
   "source": [
    "def bagging(X, y, num_iter, sample_size, seed):\n",
    "    \"\"\"This function returns each h(x) of AdaBoost as well as their weights \n",
    "   \n",
    "    Input: df_train, num_iter\n",
    "    Outputs: array of trees from DecisionTreeClassifier\n",
    "             trees_weights array of floats\n",
    "    Assumes y is {-1, 1}\n",
    "    \"\"\"\n",
    "    trees = []\n",
    "    \n",
    "    \n",
    "    for i in range(num_iter):\n",
    "        # re-sampling training data with replacement\n",
    "        index_samples = np.random.choice(X.index, sample_size)\n",
    "        X_sample, y_sample = X.loc[index_samples], y.loc[index_samples]\n",
    "        \n",
    "        h = DecisionTreeClassifier(max_depth=1, random_state=seed) # a decision stamp\n",
    "        h.fit(X_sample,y_sample) # build the basic learner\n",
    "        \n",
    "        trees.append(h) # store basic learner\n",
    "    \n",
    "    return trees"
   ]
  },
  {
   "cell_type": "code",
   "execution_count": 28,
   "metadata": {
    "collapsed": true
   },
   "outputs": [],
   "source": [
    "def bagging_predict(X, trees):\n",
    "    \"\"\"Given X, trees, predict Y\n",
    "    \"\"\"\n",
    "    # X input, y output\n",
    "    N, _ =  X.shape\n",
    "    y = np.zeros(N)\n",
    "    \n",
    "    for tree in trees:\n",
    "        y += tree.predict(X)\n",
    "    y = [1 if a > 0 else -1 for a in y]\n",
    "        \n",
    "    return y"
   ]
  },
  {
   "cell_type": "markdown",
   "metadata": {},
   "source": [
    "# 3. Load Data and Train"
   ]
  },
  {
   "cell_type": "code",
   "execution_count": 5,
   "metadata": {
    "collapsed": true
   },
   "outputs": [],
   "source": [
    "data = pd.read_csv('../data/data.txt').drop(['Id'], axis=1)"
   ]
  },
  {
   "cell_type": "code",
   "execution_count": 21,
   "metadata": {
    "scrolled": true
   },
   "outputs": [],
   "source": [
    "dummies_dict = dummies_fit(data)\n",
    "dummies_dict['quality'] = {'bad': -1, 'good': 1}\n",
    "dummies_transfer(data, dummies_dict)"
   ]
  },
  {
   "cell_type": "code",
   "execution_count": 22,
   "metadata": {
    "scrolled": false
   },
   "outputs": [
    {
     "data": {
      "text/html": [
       "<div>\n",
       "<style scoped>\n",
       "    .dataframe tbody tr th:only-of-type {\n",
       "        vertical-align: middle;\n",
       "    }\n",
       "\n",
       "    .dataframe tbody tr th {\n",
       "        vertical-align: top;\n",
       "    }\n",
       "\n",
       "    .dataframe thead th {\n",
       "        text-align: right;\n",
       "    }\n",
       "</style>\n",
       "<table border=\"1\" class=\"dataframe\">\n",
       "  <thead>\n",
       "    <tr style=\"text-align: right;\">\n",
       "      <th></th>\n",
       "      <th>color</th>\n",
       "      <th>root</th>\n",
       "      <th>sound</th>\n",
       "      <th>stripes</th>\n",
       "      <th>umbilical</th>\n",
       "      <th>touch</th>\n",
       "      <th>density</th>\n",
       "      <th>sugar</th>\n",
       "      <th>quality</th>\n",
       "    </tr>\n",
       "  </thead>\n",
       "  <tbody>\n",
       "    <tr>\n",
       "      <th>0</th>\n",
       "      <td>1</td>\n",
       "      <td>1</td>\n",
       "      <td>0</td>\n",
       "      <td>0</td>\n",
       "      <td>1</td>\n",
       "      <td>0</td>\n",
       "      <td>0.697</td>\n",
       "      <td>0.460</td>\n",
       "      <td>1</td>\n",
       "    </tr>\n",
       "    <tr>\n",
       "      <th>1</th>\n",
       "      <td>0</td>\n",
       "      <td>1</td>\n",
       "      <td>1</td>\n",
       "      <td>0</td>\n",
       "      <td>1</td>\n",
       "      <td>0</td>\n",
       "      <td>0.744</td>\n",
       "      <td>0.376</td>\n",
       "      <td>1</td>\n",
       "    </tr>\n",
       "    <tr>\n",
       "      <th>2</th>\n",
       "      <td>0</td>\n",
       "      <td>1</td>\n",
       "      <td>0</td>\n",
       "      <td>0</td>\n",
       "      <td>1</td>\n",
       "      <td>0</td>\n",
       "      <td>0.634</td>\n",
       "      <td>0.264</td>\n",
       "      <td>1</td>\n",
       "    </tr>\n",
       "    <tr>\n",
       "      <th>3</th>\n",
       "      <td>1</td>\n",
       "      <td>1</td>\n",
       "      <td>1</td>\n",
       "      <td>0</td>\n",
       "      <td>1</td>\n",
       "      <td>0</td>\n",
       "      <td>0.608</td>\n",
       "      <td>0.318</td>\n",
       "      <td>1</td>\n",
       "    </tr>\n",
       "    <tr>\n",
       "      <th>4</th>\n",
       "      <td>2</td>\n",
       "      <td>1</td>\n",
       "      <td>0</td>\n",
       "      <td>0</td>\n",
       "      <td>1</td>\n",
       "      <td>0</td>\n",
       "      <td>0.556</td>\n",
       "      <td>0.215</td>\n",
       "      <td>1</td>\n",
       "    </tr>\n",
       "  </tbody>\n",
       "</table>\n",
       "</div>"
      ],
      "text/plain": [
       "   color  root  sound  stripes  umbilical  touch  density  sugar  quality\n",
       "0      1     1      0        0          1      0    0.697  0.460        1\n",
       "1      0     1      1        0          1      0    0.744  0.376        1\n",
       "2      0     1      0        0          1      0    0.634  0.264        1\n",
       "3      1     1      1        0          1      0    0.608  0.318        1\n",
       "4      2     1      0        0          1      0    0.556  0.215        1"
      ]
     },
     "execution_count": 22,
     "metadata": {},
     "output_type": "execute_result"
    }
   ],
   "source": [
    "data.head()"
   ]
  },
  {
   "cell_type": "code",
   "execution_count": 29,
   "metadata": {},
   "outputs": [],
   "source": [
    "trees = bagging(data.drop(['quality'],axis=1), data.quality, 3, 10, 0)"
   ]
  },
  {
   "cell_type": "code",
   "execution_count": 30,
   "metadata": {},
   "outputs": [
    {
     "data": {
      "text/plain": [
       "[1, 1, 1, 1, 1, -1, 1, 1, 1, -1, -1, -1, 1, 1, -1, 1, 1]"
      ]
     },
     "execution_count": 30,
     "metadata": {},
     "output_type": "execute_result"
    }
   ],
   "source": [
    "bagging_predict(data.drop(['quality'],axis=1), trees)"
   ]
  },
  {
   "cell_type": "code",
   "execution_count": 31,
   "metadata": {},
   "outputs": [
    {
     "data": {
      "text/plain": [
       "0     1\n",
       "1     1\n",
       "2     1\n",
       "3     1\n",
       "4     1\n",
       "5     1\n",
       "6     1\n",
       "7     1\n",
       "8    -1\n",
       "9    -1\n",
       "10   -1\n",
       "11   -1\n",
       "12   -1\n",
       "13   -1\n",
       "14   -1\n",
       "15   -1\n",
       "16   -1\n",
       "Name: quality, dtype: int64"
      ]
     },
     "execution_count": 31,
     "metadata": {},
     "output_type": "execute_result"
    }
   ],
   "source": [
    "data.quality"
   ]
  },
  {
   "cell_type": "code",
   "execution_count": 32,
   "metadata": {},
   "outputs": [
    {
     "data": {
      "text/plain": [
       "0.6470588235294118"
      ]
     },
     "execution_count": 32,
     "metadata": {},
     "output_type": "execute_result"
    }
   ],
   "source": [
    "accuracy(data.quality, bagging_predict(data.drop(['quality'],axis=1), trees))"
   ]
  },
  {
   "cell_type": "code",
   "execution_count": null,
   "metadata": {
    "collapsed": true
   },
   "outputs": [],
   "source": []
  }
 ],
 "metadata": {
  "kernelspec": {
   "display_name": "Python 3",
   "language": "python",
   "name": "python3"
  },
  "language_info": {
   "codemirror_mode": {
    "name": "ipython",
    "version": 3
   },
   "file_extension": ".py",
   "mimetype": "text/x-python",
   "name": "python",
   "nbconvert_exporter": "python",
   "pygments_lexer": "ipython3",
   "version": "3.6.3"
  }
 },
 "nbformat": 4,
 "nbformat_minor": 2
}
