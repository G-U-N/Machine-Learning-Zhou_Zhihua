{
 "cells": [
  {
   "cell_type": "markdown",
   "metadata": {},
   "source": [
    "# Problem 5.5 \n",
    "# Implementation of BackProbagation"
   ]
  },
  {
   "cell_type": "code",
   "execution_count": 1,
   "metadata": {
    "collapsed": true
   },
   "outputs": [],
   "source": [
    "import numpy as np\n",
    "import pandas as pd\n",
    "import random\n",
    "import copy \n",
    "\n",
    "from IPython.display import Image, display"
   ]
  },
  {
   "cell_type": "code",
   "execution_count": 2,
   "metadata": {
    "collapsed": true
   },
   "outputs": [],
   "source": [
    "data = pd.read_csv('../data/data.txt')"
   ]
  },
  {
   "cell_type": "code",
   "execution_count": 3,
   "metadata": {
    "scrolled": false
   },
   "outputs": [
    {
     "data": {
      "text/html": [
       "<div>\n",
       "<style scoped>\n",
       "    .dataframe tbody tr th:only-of-type {\n",
       "        vertical-align: middle;\n",
       "    }\n",
       "\n",
       "    .dataframe tbody tr th {\n",
       "        vertical-align: top;\n",
       "    }\n",
       "\n",
       "    .dataframe thead th {\n",
       "        text-align: right;\n",
       "    }\n",
       "</style>\n",
       "<table border=\"1\" class=\"dataframe\">\n",
       "  <thead>\n",
       "    <tr style=\"text-align: right;\">\n",
       "      <th></th>\n",
       "      <th>Id</th>\n",
       "      <th>color</th>\n",
       "      <th>root</th>\n",
       "      <th>sound</th>\n",
       "      <th>stripes</th>\n",
       "      <th>umbilical</th>\n",
       "      <th>touch</th>\n",
       "      <th>density</th>\n",
       "      <th>sugar</th>\n",
       "      <th>quality</th>\n",
       "    </tr>\n",
       "  </thead>\n",
       "  <tbody>\n",
       "    <tr>\n",
       "      <th>0</th>\n",
       "      <td>1</td>\n",
       "      <td>dark-green</td>\n",
       "      <td>roll-up</td>\n",
       "      <td>dull</td>\n",
       "      <td>clear</td>\n",
       "      <td>hollow</td>\n",
       "      <td>hard</td>\n",
       "      <td>0.697</td>\n",
       "      <td>0.460</td>\n",
       "      <td>good</td>\n",
       "    </tr>\n",
       "    <tr>\n",
       "      <th>1</th>\n",
       "      <td>2</td>\n",
       "      <td>pitch-dark</td>\n",
       "      <td>roll-up</td>\n",
       "      <td>dead</td>\n",
       "      <td>clear</td>\n",
       "      <td>hollow</td>\n",
       "      <td>hard</td>\n",
       "      <td>0.744</td>\n",
       "      <td>0.376</td>\n",
       "      <td>good</td>\n",
       "    </tr>\n",
       "    <tr>\n",
       "      <th>2</th>\n",
       "      <td>3</td>\n",
       "      <td>pitch-dark</td>\n",
       "      <td>roll-up</td>\n",
       "      <td>dull</td>\n",
       "      <td>clear</td>\n",
       "      <td>hollow</td>\n",
       "      <td>hard</td>\n",
       "      <td>0.634</td>\n",
       "      <td>0.264</td>\n",
       "      <td>good</td>\n",
       "    </tr>\n",
       "    <tr>\n",
       "      <th>3</th>\n",
       "      <td>4</td>\n",
       "      <td>dark-green</td>\n",
       "      <td>roll-up</td>\n",
       "      <td>dead</td>\n",
       "      <td>clear</td>\n",
       "      <td>hollow</td>\n",
       "      <td>hard</td>\n",
       "      <td>0.608</td>\n",
       "      <td>0.318</td>\n",
       "      <td>good</td>\n",
       "    </tr>\n",
       "    <tr>\n",
       "      <th>4</th>\n",
       "      <td>5</td>\n",
       "      <td>white</td>\n",
       "      <td>roll-up</td>\n",
       "      <td>dull</td>\n",
       "      <td>clear</td>\n",
       "      <td>hollow</td>\n",
       "      <td>hard</td>\n",
       "      <td>0.556</td>\n",
       "      <td>0.215</td>\n",
       "      <td>good</td>\n",
       "    </tr>\n",
       "  </tbody>\n",
       "</table>\n",
       "</div>"
      ],
      "text/plain": [
       "   Id       color     root sound stripes umbilical touch  density  sugar  \\\n",
       "0   1  dark-green  roll-up  dull   clear    hollow  hard    0.697  0.460   \n",
       "1   2  pitch-dark  roll-up  dead   clear    hollow  hard    0.744  0.376   \n",
       "2   3  pitch-dark  roll-up  dull   clear    hollow  hard    0.634  0.264   \n",
       "3   4  dark-green  roll-up  dead   clear    hollow  hard    0.608  0.318   \n",
       "4   5       white  roll-up  dull   clear    hollow  hard    0.556  0.215   \n",
       "\n",
       "  quality  \n",
       "0    good  \n",
       "1    good  \n",
       "2    good  \n",
       "3    good  \n",
       "4    good  "
      ]
     },
     "execution_count": 3,
     "metadata": {},
     "output_type": "execute_result"
    }
   ],
   "source": [
    "data.head()"
   ]
  },
  {
   "cell_type": "code",
   "execution_count": 4,
   "metadata": {
    "scrolled": true
   },
   "outputs": [
    {
     "data": {
      "text/plain": [
       "Index(['Id', 'color', 'root', 'sound', 'stripes', 'umbilical', 'touch',\n",
       "       'density', 'sugar', 'quality'],\n",
       "      dtype='object')"
      ]
     },
     "execution_count": 4,
     "metadata": {},
     "output_type": "execute_result"
    }
   ],
   "source": [
    "data.columns"
   ]
  },
  {
   "cell_type": "markdown",
   "metadata": {},
   "source": [
    "# 1. Pre-Processing - dummy variables"
   ]
  },
  {
   "cell_type": "code",
   "execution_count": 5,
   "metadata": {
    "collapsed": true,
    "scrolled": true
   },
   "outputs": [],
   "source": [
    "def dummies_fit(df):\n",
    "    dummies_dict = {}\n",
    "    for column in df.columns:\n",
    "        if not np.issubdtype(df[column].dtype, np.number):\n",
    "            dummies_dict[column] = {}\n",
    "            i = 0\n",
    "            for value in set(df[column].values):\n",
    "                dummies_dict[column][value] = i\n",
    "                i += 1\n",
    "    return dummies_dict"
   ]
  },
  {
   "cell_type": "code",
   "execution_count": 6,
   "metadata": {
    "collapsed": true
   },
   "outputs": [],
   "source": [
    "def dummies_transfer(df, dum_dict):\n",
    "    for column in df.columns:\n",
    "        if column in dum_dict.keys():\n",
    "            for key in dum_dict[column]:\n",
    "                df.loc[df[column] == key, column] = dum_dict[column][key]"
   ]
  },
  {
   "cell_type": "code",
   "execution_count": 7,
   "metadata": {
    "scrolled": true
   },
   "outputs": [
    {
     "data": {
      "text/plain": [
       "{'color': {'dark-green': 1, 'pitch-dark': 0, 'white': 2},\n",
       " 'quality': {'bad': 1, 'good': 0},\n",
       " 'root': {'roll-up': 1, 'slighly-curled': 0, 'stiff': 2},\n",
       " 'sound': {'crisp': 2, 'dead': 1, 'dull': 0},\n",
       " 'stripes': {'blurred': 1, 'clear': 0, 'indistinct': 2},\n",
       " 'touch': {'hard': 0, 'soft': 1},\n",
       " 'umbilical': {'hollow': 1, 'plain': 0, 'slightly-hollow': 2}}"
      ]
     },
     "execution_count": 7,
     "metadata": {},
     "output_type": "execute_result"
    }
   ],
   "source": [
    "d = dummies_fit(data.drop(['Id'],axis=1))\n",
    "d"
   ]
  },
  {
   "cell_type": "code",
   "execution_count": 8,
   "metadata": {
    "collapsed": true
   },
   "outputs": [],
   "source": [
    "dummies_transfer(data, d)"
   ]
  },
  {
   "cell_type": "code",
   "execution_count": 9,
   "metadata": {
    "collapsed": true
   },
   "outputs": [],
   "source": [
    "data = data.drop(['Id'],axis=1)"
   ]
  },
  {
   "cell_type": "code",
   "execution_count": 10,
   "metadata": {},
   "outputs": [
    {
     "data": {
      "text/html": [
       "<div>\n",
       "<style scoped>\n",
       "    .dataframe tbody tr th:only-of-type {\n",
       "        vertical-align: middle;\n",
       "    }\n",
       "\n",
       "    .dataframe tbody tr th {\n",
       "        vertical-align: top;\n",
       "    }\n",
       "\n",
       "    .dataframe thead th {\n",
       "        text-align: right;\n",
       "    }\n",
       "</style>\n",
       "<table border=\"1\" class=\"dataframe\">\n",
       "  <thead>\n",
       "    <tr style=\"text-align: right;\">\n",
       "      <th></th>\n",
       "      <th>color</th>\n",
       "      <th>root</th>\n",
       "      <th>sound</th>\n",
       "      <th>stripes</th>\n",
       "      <th>umbilical</th>\n",
       "      <th>touch</th>\n",
       "      <th>density</th>\n",
       "      <th>sugar</th>\n",
       "      <th>quality</th>\n",
       "    </tr>\n",
       "  </thead>\n",
       "  <tbody>\n",
       "    <tr>\n",
       "      <th>0</th>\n",
       "      <td>1</td>\n",
       "      <td>1</td>\n",
       "      <td>0</td>\n",
       "      <td>0</td>\n",
       "      <td>1</td>\n",
       "      <td>0</td>\n",
       "      <td>0.697</td>\n",
       "      <td>0.460</td>\n",
       "      <td>0</td>\n",
       "    </tr>\n",
       "    <tr>\n",
       "      <th>1</th>\n",
       "      <td>0</td>\n",
       "      <td>1</td>\n",
       "      <td>1</td>\n",
       "      <td>0</td>\n",
       "      <td>1</td>\n",
       "      <td>0</td>\n",
       "      <td>0.744</td>\n",
       "      <td>0.376</td>\n",
       "      <td>0</td>\n",
       "    </tr>\n",
       "    <tr>\n",
       "      <th>2</th>\n",
       "      <td>0</td>\n",
       "      <td>1</td>\n",
       "      <td>0</td>\n",
       "      <td>0</td>\n",
       "      <td>1</td>\n",
       "      <td>0</td>\n",
       "      <td>0.634</td>\n",
       "      <td>0.264</td>\n",
       "      <td>0</td>\n",
       "    </tr>\n",
       "    <tr>\n",
       "      <th>3</th>\n",
       "      <td>1</td>\n",
       "      <td>1</td>\n",
       "      <td>1</td>\n",
       "      <td>0</td>\n",
       "      <td>1</td>\n",
       "      <td>0</td>\n",
       "      <td>0.608</td>\n",
       "      <td>0.318</td>\n",
       "      <td>0</td>\n",
       "    </tr>\n",
       "    <tr>\n",
       "      <th>4</th>\n",
       "      <td>2</td>\n",
       "      <td>1</td>\n",
       "      <td>0</td>\n",
       "      <td>0</td>\n",
       "      <td>1</td>\n",
       "      <td>0</td>\n",
       "      <td>0.556</td>\n",
       "      <td>0.215</td>\n",
       "      <td>0</td>\n",
       "    </tr>\n",
       "  </tbody>\n",
       "</table>\n",
       "</div>"
      ],
      "text/plain": [
       "   color  root  sound  stripes  umbilical  touch  density  sugar  quality\n",
       "0      1     1      0        0          1      0    0.697  0.460        0\n",
       "1      0     1      1        0          1      0    0.744  0.376        0\n",
       "2      0     1      0        0          1      0    0.634  0.264        0\n",
       "3      1     1      1        0          1      0    0.608  0.318        0\n",
       "4      2     1      0        0          1      0    0.556  0.215        0"
      ]
     },
     "execution_count": 10,
     "metadata": {},
     "output_type": "execute_result"
    }
   ],
   "source": [
    "data.head()"
   ]
  },
  {
   "cell_type": "markdown",
   "metadata": {},
   "source": [
    "# 1. Initialize Network"
   ]
  },
  {
   "cell_type": "code",
   "execution_count": 11,
   "metadata": {
    "collapsed": true
   },
   "outputs": [],
   "source": [
    "def initialize_network(n_inputs, n_hidden, n_outputs, seed=0):\n",
    "    \"\"\"\n",
    "    This function return the initialized network and this network has a struction of\n",
    "    one hidden layer.\n",
    "    \n",
    "    It has four inputs:\n",
    "    1. n_inputs: integer, the number of inputs\n",
    "    2. n_hidden: integer, the number of hidden neurons\n",
    "    3. n_outputs: integer, the number of output neurons\n",
    "    4. seed: set the seed\n",
    "    \"\"\"\n",
    "    random.seed(seed)\n",
    "    network = {}\n",
    "    network['hidden'] = [[random.random() for i in range(n_inputs + 1)] for i in range(n_hidden)]\n",
    "    network['output'] = [[random.random() for i in range(n_hidden+1)] for i in range(n_outputs)]\n",
    "    \n",
    "    return network\n",
    "    \n",
    "    "
   ]
  },
  {
   "cell_type": "code",
   "execution_count": 12,
   "metadata": {
    "collapsed": true
   },
   "outputs": [],
   "source": [
    "init_network = initialize_network(data.shape[1]-1, 4, 2)"
   ]
  },
  {
   "cell_type": "code",
   "execution_count": 13,
   "metadata": {},
   "outputs": [
    {
     "data": {
      "text/plain": [
       "{'hidden': [[0.8444218515250481,\n",
       "   0.7579544029403025,\n",
       "   0.420571580830845,\n",
       "   0.25891675029296335,\n",
       "   0.5112747213686085,\n",
       "   0.4049341374504143,\n",
       "   0.7837985890347726,\n",
       "   0.30331272607892745,\n",
       "   0.4765969541523558],\n",
       "  [0.5833820394550312,\n",
       "   0.9081128851953352,\n",
       "   0.5046868558173903,\n",
       "   0.28183784439970383,\n",
       "   0.7558042041572239,\n",
       "   0.6183689966753316,\n",
       "   0.25050634136244054,\n",
       "   0.9097462559682401,\n",
       "   0.9827854760376531],\n",
       "  [0.8102172359965896,\n",
       "   0.9021659504395827,\n",
       "   0.3101475693193326,\n",
       "   0.7298317482601286,\n",
       "   0.8988382879679935,\n",
       "   0.6839839319154413,\n",
       "   0.47214271545271336,\n",
       "   0.1007012080683658,\n",
       "   0.4341718354537837],\n",
       "  [0.6108869734438016,\n",
       "   0.9130110532378982,\n",
       "   0.9666063677707588,\n",
       "   0.47700977655271704,\n",
       "   0.8653099277716401,\n",
       "   0.2604923103919594,\n",
       "   0.8050278270130223,\n",
       "   0.5486993038355893,\n",
       "   0.014041700164018955]],\n",
       " 'output': [[0.7197046864039541,\n",
       "   0.39882354222426875,\n",
       "   0.824844977148233,\n",
       "   0.6681532012318508,\n",
       "   0.0011428193144282783],\n",
       "  [0.49357786646532464,\n",
       "   0.8676027754927809,\n",
       "   0.24391087688713198,\n",
       "   0.32520436274739006,\n",
       "   0.8704712321086546]]}"
      ]
     },
     "execution_count": 13,
     "metadata": {},
     "output_type": "execute_result"
    }
   ],
   "source": [
    "init_network"
   ]
  },
  {
   "cell_type": "markdown",
   "metadata": {},
   "source": [
    "# 2. Forward Propagation\n",
    "\n",
    "Forward propagation can be broken down into three parts:\n",
    "\n",
    "1. Neuron Activation.\n",
    "2. Neuron Transfer.\n",
    "3. Forward Propagation."
   ]
  },
  {
   "cell_type": "markdown",
   "metadata": {},
   "source": [
    "- Activation \n",
    " \n",
    " $$activation = \\sum_{i=1}^{I} (weight_{i} * input_{i}) - threshold $$"
   ]
  },
  {
   "cell_type": "code",
   "execution_count": 14,
   "metadata": {
    "collapsed": true
   },
   "outputs": [],
   "source": [
    "def activate(weights, inputs):\n",
    "    weight, threshold = weights[:-1], weights[-1]\n",
    "    value = np.dot(weight, inputs) - threshold\n",
    "    return value"
   ]
  },
  {
   "cell_type": "markdown",
   "metadata": {},
   "source": [
    "-  Sigmoid Transformation\n",
    "\n",
    "$$ output = \\frac{1}{1+e^{-z}} $$ \n",
    "$$ $$\n",
    "$$ z = - activation $$"
   ]
  },
  {
   "cell_type": "code",
   "execution_count": 15,
   "metadata": {
    "collapsed": true
   },
   "outputs": [],
   "source": [
    "def transformation(z):\n",
    "    return 1.0/(1.0+np.exp(-z))"
   ]
  },
  {
   "cell_type": "markdown",
   "metadata": {},
   "source": [
    "- Forward propagation\n",
    "\n",
    "activation -> output -> input -> activation -> .."
   ]
  },
  {
   "cell_type": "code",
   "execution_count": 16,
   "metadata": {
    "collapsed": true
   },
   "outputs": [],
   "source": [
    "def forward_propagation(network_dict, row):\n",
    "    \"\"\"\n",
    "    This function returns the outputs from the output layers\n",
    "    It has two inputs:\n",
    "    1. network_dict: dictionary, {'hidden':[[w1, w2, .. ,b], [...]], 'output': [[w1,...]]}\n",
    "    2. row: a row of input variables\n",
    "    \"\"\"\n",
    "    updated_inputs = [] # the list of final outputs\n",
    "    hidden_output = [] # the list of output from hidden layer\n",
    "    \n",
    "    # compute the output of each hidden neuron\n",
    "    for i in range(len(network_dict['hidden'])):\n",
    "        activation = activate(network_dict['hidden'][i], row) \n",
    "        transform = transformation(activation)\n",
    "        hidden_output.append(transform)\n",
    "    \n",
    "    # compute the output of each output neuron\n",
    "    for i in range(len(network_dict['output'])):\n",
    "        beta = transformation(activate(network_dict['output'][i], hidden_output))\n",
    "        updated_inputs.append(beta)\n",
    "    return updated_inputs, hidden_output"
   ]
  },
  {
   "cell_type": "code",
   "execution_count": 18,
   "metadata": {},
   "outputs": [
    {
     "data": {
      "text/plain": [
       "([0.91730335846414202, 0.70436307737895776],\n",
       " [0.91075475315638799,\n",
       "  0.86501694571825016,\n",
       "  0.92773831543430474,\n",
       "  0.960405764593113])"
      ]
     },
     "execution_count": 18,
     "metadata": {},
     "output_type": "execute_result"
    }
   ],
   "source": [
    "s_d = data.drop(['quality'],axis=1)\n",
    "b = forward_propagation(init_network, s_d.iloc[0])\n",
    "b"
   ]
  },
  {
   "cell_type": "markdown",
   "metadata": {},
   "source": [
    "# 3. Standard Back-Propagation\n",
    "\n",
    "This part can be broken down into two sections.\n",
    "\n",
    "1. Transfer Derivative.\n",
    "2. Error Backpropagation."
   ]
  },
  {
   "cell_type": "markdown",
   "metadata": {},
   "source": [
    "-  Derivation of Sigmoid Function:\n",
    "$$ f(x) = \\frac{1}{1+e^{-z}}  $$\n",
    "$$ $$\n",
    "$$f^{\\prime}(x) = f(x)(1-f(x))  $$"
   ]
  },
  {
   "cell_type": "code",
   "execution_count": 19,
   "metadata": {
    "collapsed": true
   },
   "outputs": [],
   "source": [
    "def derivation(v):\n",
    "    return v*(1-v)"
   ]
  },
  {
   "cell_type": "markdown",
   "metadata": {},
   "source": [
    "- Standard back propagation"
   ]
  },
  {
   "cell_type": "code",
   "execution_count": 20,
   "metadata": {
    "scrolled": false
   },
   "outputs": [
    {
     "data": {
      "image/png": "[encoded data removed]",
      "text/plain": [
       "<IPython.core.display.Image object>"
      ]
     },
     "metadata": {},
     "output_type": "display_data"
    }
   ],
   "source": [
    "display(Image(\"../image/image1.png\"))"
   ]
  },
  {
   "cell_type": "markdown",
   "metadata": {},
   "source": [
    "$$ \\forall v \\in Parameters $$\n",
    "$$ $$\n",
    "$$ v \\gets v + \\triangledown v$$\n",
    "$$ $$\n",
    "$$ \\triangledown w_{hj} = \\eta g_{j} b_{h} $$\n",
    "$$ $$\n",
    "$$ \\triangledown v_{ih} = \\eta e_{h} x_{i} $$\n",
    "$$ $$\n",
    "$$ \\triangledown \\theta_{j} = -\\eta g_{j} $$\n",
    "$$ $$\n",
    "$$ \\triangledown \\gamma_{j} = -\\eta e_{h} $$\n",
    "\n",
    "$$ g_{j} = \\hat{y}_{j} (1-\\hat{y}_{j}) ({y}_{j}-\\hat{y}_{j}) $$\n",
    "$$ $$\n",
    "$$ e_{h} = b_{h}(1-b_{h})\\sum_{j=1}{l}w_{hj}g_{j}$$\n",
    "$$ $$"
   ]
  },
  {
   "cell_type": "code",
   "execution_count": 21,
   "metadata": {
    "collapsed": true
   },
   "outputs": [],
   "source": [
    "def standard_back_probagation(network_dict, input_row, train_value, learning_rate):\n",
    "    \"\"\"\n",
    "    This function returns the updated network weights after iterating through 1 row. \n",
    "    It has four variables:\n",
    "    1. network_dict: dictionary, the initialized network\n",
    "    2. input_row: df row, the train data\n",
    "    3. train_value: the train target value of this row\n",
    "    4. learning_rate: float\n",
    "    \"\"\"\n",
    "    y_hat, b = forward_propagation(network_dict, input_row)\n",
    "    y = [0.0 for i in range(len(y_hat))]\n",
    "    y[train_value]=1.0\n",
    "    \n",
    "    g_list = []\n",
    "    updated_network_dict = copy.deepcopy(network_dict)\n",
    "    \n",
    "    for i in range(len(network_dict['output'])):\n",
    "        g = y_hat[i] * (1 - y_hat[i])*(y[i] - y_hat[i])\n",
    "        \n",
    "        g_list.append(g)\n",
    "        updated_network_dict['output'][i][-1] -= learning_rate * g\n",
    "        for j in range(len(network_dict['output'][i]) -1):\n",
    "            updated_network_dict['output'][i][j] += learning_rate * g * b[j]\n",
    "            \n",
    "    for i in range(len(network_dict['hidden'])):\n",
    "        w_h = [parameters[i] for parameters in network_dict['output']]\n",
    "        product_sum = sum([w_hj * g_j for (w_hj, g_j) in zip(w_h, g_list)])\n",
    "        e = b[i] * (1-b[i]) * product_sum\n",
    "        \n",
    "        updated_network_dict['hidden'][i][-1] -= learning_rate * e\n",
    "        \n",
    "        for j in range(len(network_dict['hidden']) -1):\n",
    "            updated_network_dict['hidden'][i][j] += learning_rate * e * input_row[j]\n",
    "            \n",
    "    return updated_network_dict        "
   ]
  },
  {
   "cell_type": "code",
   "execution_count": 22,
   "metadata": {
    "scrolled": true
   },
   "outputs": [
    {
     "data": {
      "text/plain": [
       "{'hidden': [[0.84166319120649191,\n",
       "   0.75519574262174627,\n",
       "   0.420571580830845,\n",
       "   0.25891675029296335,\n",
       "   0.5112747213686085,\n",
       "   0.4049341374504143,\n",
       "   0.7837985890347726,\n",
       "   0.30331272607892745,\n",
       "   0.47935561447091207],\n",
       "  [0.57609882499387854,\n",
       "   0.90082967073418252,\n",
       "   0.50468685581739026,\n",
       "   0.28183784439970383,\n",
       "   0.7558042041572239,\n",
       "   0.6183689966753316,\n",
       "   0.25050634136244054,\n",
       "   0.9097462559682401,\n",
       "   0.99006869049880575],\n",
       "  [0.80919149604238849,\n",
       "   0.90114021048538162,\n",
       "   0.31014756931933263,\n",
       "   0.7298317482601286,\n",
       "   0.8988382879679935,\n",
       "   0.6839839319154413,\n",
       "   0.47214271545271336,\n",
       "   0.1007012080683658,\n",
       "   0.43519757540798476],\n",
       "  [0.61005975515653887,\n",
       "   0.91218383495063549,\n",
       "   0.96660636777075881,\n",
       "   0.47700977655271704,\n",
       "   0.8653099277716401,\n",
       "   0.2604923103919594,\n",
       "   0.8050278270130223,\n",
       "   0.5486993038355893,\n",
       "   0.014868918451281642]],\n",
       " 'output': [[0.72256135709603386,\n",
       "   0.40153675184345738,\n",
       "   0.8277549184320262,\n",
       "   0.67116560714102591,\n",
       "   -0.0019937777575929749],\n",
       "  [0.4267860448446002,\n",
       "   0.80416521742670022,\n",
       "   0.17587353548380991,\n",
       "   0.25477129578846991,\n",
       "   0.9438080128273334]]}"
      ]
     },
     "execution_count": 22,
     "metadata": {},
     "output_type": "execute_result"
    }
   ],
   "source": [
    "standard_back_probagation(init_network, s_d.iloc[0], data.quality[0], 0.5)"
   ]
  },
  {
   "cell_type": "markdown",
   "metadata": {},
   "source": [
    "# 4. Accumulated Back-Propagation"
   ]
  },
  {
   "cell_type": "markdown",
   "metadata": {},
   "source": [
    "$$ \\forall v \\in Parameters $$\n",
    "$$ $$\n",
    "$$ v \\gets v + \\triangledown v$$\n",
    "$$ $$\n",
    "$$ \\triangledown w_{hj} = \\sum\\eta g_{j} b_{h} $$\n",
    "$$ $$\n",
    "$$ \\triangledown v_{ih} = \\sum\\eta e_{h} x_{i} $$\n",
    "$$ $$\n",
    "$$ \\triangledown \\theta_{j} = -\\sum\\eta g_{j} $$\n",
    "$$ $$\n",
    "$$ \\triangledown \\gamma_{j} = -\\sum\\eta e_{h} $$\n",
    "\n",
    "$$ g_{j} = \\hat{y}_{j} (1-\\hat{y}_{j}) ({y}_{j}-\\hat{y}_{j}) $$\n",
    "$$ $$\n",
    "$$ e_{h} = b_{h}(1-b_{h})\\sum_{j=1}{l}w_{hj}g_{j}$$\n",
    "$$ $$"
   ]
  },
  {
   "cell_type": "code",
   "execution_count": 23,
   "metadata": {
    "collapsed": true
   },
   "outputs": [],
   "source": [
    "def accumulated_back_propagation(network_dict, input_df, target_name, learning_rate):\n",
    "    \"\"\"\n",
    "    This function returns the updated network weights after 1 round. \n",
    "    It has four variables:\n",
    "    1. network_dict: dictionary, the initialized network\n",
    "    2. input_df: df, the train data\n",
    "    3. target_name: string, the column name of target \n",
    "    4. learning_rate: float\n",
    "    \"\"\"\n",
    "    train_x, train_y = input_df.drop([target_name],axis=1), input_df[target_name]\n",
    "    delta_dict = {'hidden': np.zeros(np.array(network_dict['hidden']).shape),\n",
    "                  'output': np.zeros(np.array(network_dict['output']).shape)}\n",
    "    \n",
    "    \n",
    "    for index in range(len(input_df)):\n",
    "        input_row, train_value = train_x.iloc[index], train_y[index]\n",
    "    \n",
    "        y_hat, b = forward_propagation(network_dict, input_row)\n",
    "        y = [0.0 for i in range(len(y_hat))]\n",
    "        y[train_value]=1.0\n",
    "    \n",
    "        g_list = []\n",
    "        \n",
    "        [delta_w, delta_v, delta_theta, delta_gamma] =[0.0] *4 \n",
    "    \n",
    "        for i in range(len(network_dict['output'])):\n",
    "            g = y_hat[i] * (1 - y_hat[i])*(y[i] - y_hat[i])\n",
    "\n",
    "            g_list.append(g)\n",
    "            delta_dict['output'][i][-1] -= learning_rate * g\n",
    "            \n",
    "            for j in range(len(network_dict['output'][i]) -1):\n",
    "                delta_dict['output'][i][j] += learning_rate * g * b[j]\n",
    "\n",
    "        for i in range(len(network_dict['hidden'])):\n",
    "            w_h = [parameters[i] for parameters in network_dict['output']]\n",
    "            product_sum = sum([w_hj * g_j for (w_hj, g_j) in zip(w_h, g_list)])\n",
    "            e = b[i] * (1-b[i]) * product_sum\n",
    "            \n",
    "            delta_dict['hidden'][i][-1] -= learning_rate * e\n",
    "\n",
    "\n",
    "            for j in range(len(network_dict['hidden']) -1):\n",
    "                delta_dict['hidden'][i][j] += learning_rate * e * input_row[j]\n",
    "                \n",
    "        \n",
    "    updated_network_dict = {'hidden':network_dict['hidden']+delta_dict['hidden'],\n",
    "                            'output':network_dict['output']+delta_dict['output']}\n",
    "\n",
    "    return updated_network_dict        "
   ]
  },
  {
   "cell_type": "code",
   "execution_count": 24,
   "metadata": {},
   "outputs": [
    {
     "data": {
      "text/plain": [
       "{'hidden': array([[ 0.84131288,  0.75440925,  0.41890349,  0.25891675,  0.51127472,\n",
       "          0.40493414,  0.78379859,  0.30331273,  0.48355727],\n",
       "        [ 0.57967274,  0.90138016,  0.50278292,  0.28183784,  0.7558042 ,\n",
       "          0.618369  ,  0.25050634,  0.90974626,  0.99343339],\n",
       "        [ 0.80846517,  0.90044388,  0.30920032,  0.72983175,  0.89883829,\n",
       "          0.68398393,  0.47214272,  0.10070121,  0.43709785],\n",
       "        [ 0.60961768,  0.91195946,  0.96629368,  0.47700978,  0.86530993,\n",
       "          0.26049231,  0.80502783,  0.5486993 ,  0.01614801]]),\n",
       " 'output': array([[ 0.66936065,  0.35047664,  0.77214283,  0.61534566,  0.05538139],\n",
       "        [ 0.44035503,  0.81584877,  0.18754468,  0.26478528,  0.93483067]])}"
      ]
     },
     "execution_count": 24,
     "metadata": {},
     "output_type": "execute_result"
    }
   ],
   "source": [
    "accumulated_back_propagation(init_network, data, 'quality', 0.1)"
   ]
  },
  {
   "cell_type": "markdown",
   "metadata": {},
   "source": [
    "# 5. Train the Network"
   ]
  },
  {
   "cell_type": "code",
   "execution_count": 25,
   "metadata": {
    "collapsed": true
   },
   "outputs": [],
   "source": [
    "def standard_train(n_hidden, n_outputs, input_df, target_name, rounds, learning_rate, seed=0):\n",
    "    \"\"\"\n",
    "    This function returns the trained network after n rounds of standard back-propagation.\n",
    "    It has seven inputs:\n",
    "    1. n_hidden: integer, the number of hidden neurons\n",
    "    2. n_outputs: integer, the number of output neurons\n",
    "    3. input_df: df, the train data\n",
    "    4. target_name: string, the column name of response\n",
    "    5. rounds: integer, the number of iteration rounds\n",
    "    6. learning_rate: float\n",
    "    7. seed: numeric value, for replication purpose\n",
    "    \"\"\"\n",
    "    \n",
    "    network = initialize_network(input_df.shape[1]-1, n_hidden, n_outputs, seed)\n",
    "    train_x, train_y = input_df.drop([target_name],axis=1), input_df[target_name]\n",
    "    \n",
    "    r = 0\n",
    "    while r < rounds:\n",
    "        r += 1\n",
    "        for i in range(len(train_x)):\n",
    "            input_row, input_target = train_x.iloc[i], train_y[i]\n",
    "            network = standard_back_probagation(network, input_row, input_target, learning_rate)\n",
    "    return network"
   ]
  },
  {
   "cell_type": "code",
   "execution_count": 26,
   "metadata": {
    "collapsed": true
   },
   "outputs": [],
   "source": [
    "def accumulated_train(n_hidden, n_outputs, input_df, target_name, rounds, learning_rate, seed=0):\n",
    "    \"\"\"\n",
    "    This function returns the trained network after n rounds of accumulated back-propagation.\n",
    "    It has seven inputs:\n",
    "    1. n_hidden: integer, the number of hidden neurons\n",
    "    2. n_outputs: integer, the number of output neurons\n",
    "    3. input_df: df, the train data\n",
    "    4. target_name: string, the column name of response\n",
    "    5. rounds: integer, the number of iteration rounds\n",
    "    6. learning_rate: float\n",
    "    7. seed: numeric value, for replication purpose\n",
    "    \"\"\"\n",
    "    network = initialize_network(input_df.shape[1]-1, n_hidden, n_outputs, seed)\n",
    "    r = 0\n",
    "    while r < rounds:\n",
    "        r += 1    \n",
    "        network = accumulated_back_propagation(network, input_df, target_name, learning_rate)\n",
    "    return network\n",
    "    "
   ]
  },
  {
   "cell_type": "markdown",
   "metadata": {},
   "source": [
    "# 6. Prediction"
   ]
  },
  {
   "cell_type": "code",
   "execution_count": 27,
   "metadata": {
    "collapsed": true
   },
   "outputs": [],
   "source": [
    "t = standard_train(4, 2, data, 'quality', 50, 0.1)"
   ]
  },
  {
   "cell_type": "code",
   "execution_count": 28,
   "metadata": {},
   "outputs": [
    {
     "data": {
      "text/plain": [
       "[0.40406061704123031, 0.59007327541119903]"
      ]
     },
     "execution_count": 28,
     "metadata": {},
     "output_type": "execute_result"
    }
   ],
   "source": [
    "forward_propagation(t, s_d.iloc[0])[0] # actually the prediction function"
   ]
  },
  {
   "cell_type": "code",
   "execution_count": 29,
   "metadata": {
    "collapsed": true
   },
   "outputs": [],
   "source": [
    "t = accumulated_train(4, 2, data, 'quality', 50, 0.1)"
   ]
  },
  {
   "cell_type": "code",
   "execution_count": 30,
   "metadata": {},
   "outputs": [
    {
     "data": {
      "text/plain": [
       "[0.46005451241064893, 0.53521826117757254]"
      ]
     },
     "execution_count": 30,
     "metadata": {},
     "output_type": "execute_result"
    }
   ],
   "source": [
    "forward_propagation(t, s_d.iloc[0])[0]"
   ]
  },
  {
   "cell_type": "code",
   "execution_count": null,
   "metadata": {
    "collapsed": true
   },
   "outputs": [],
   "source": []
  }
 ],
 "metadata": {
  "kernelspec": {
   "display_name": "Python 3",
   "language": "python",
   "name": "python3"
  },
  "language_info": {
   "codemirror_mode": {
    "name": "ipython",
    "version": 3
   },
   "file_extension": ".py",
   "mimetype": "text/x-python",
   "name": "python",
   "nbconvert_exporter": "python",
   "pygments_lexer": "ipython3",
   "version": "3.6.3"
  }
 },
 "nbformat": 4,
 "nbformat_minor": 2
}
