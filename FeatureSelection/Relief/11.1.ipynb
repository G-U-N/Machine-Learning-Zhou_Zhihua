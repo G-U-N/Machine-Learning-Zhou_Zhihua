{
 "cells": [
  {
   "cell_type": "markdown",
   "metadata": {},
   "source": [
    "# Problem 11.1\n",
    "# Implemetation of Relif Algorithm for Feature Selection"
   ]
  },
  {
   "cell_type": "code",
   "execution_count": 1,
   "metadata": {
    "collapsed": true
   },
   "outputs": [],
   "source": [
    "import pandas as pd\n",
    "import numpy as np"
   ]
  },
  {
   "cell_type": "markdown",
   "metadata": {},
   "source": [
    "# 0. Pre-Processing"
   ]
  },
  {
   "cell_type": "code",
   "execution_count": 2,
   "metadata": {
    "collapsed": true
   },
   "outputs": [],
   "source": [
    "def dummies_fit(df):\n",
    "    dummies_dict = {}\n",
    "    for column in df.columns:\n",
    "        if not np.issubdtype(df[column].dtype, np.number):\n",
    "            dummies_dict[column] = {}\n",
    "            i = 0\n",
    "            for value in set(df[column].values):\n",
    "                dummies_dict[column][value] = i\n",
    "                i += 1\n",
    "    return dummies_dict"
   ]
  },
  {
   "cell_type": "code",
   "execution_count": 3,
   "metadata": {
    "collapsed": true
   },
   "outputs": [],
   "source": [
    "def dummies_transfer(df, dum_dict):\n",
    "    for column in df.columns:\n",
    "        if column in dum_dict.keys():\n",
    "            for key in dum_dict[column]:\n",
    "                df.loc[df[column] == key, column] = dum_dict[column][key]"
   ]
  },
  {
   "cell_type": "code",
   "execution_count": 128,
   "metadata": {
    "collapsed": true
   },
   "outputs": [],
   "source": [
    "def min_max_fit(df, origin_dtypes):\n",
    "    min_max_dict = {}\n",
    "    for i in range(len(origin_dtypes)):\n",
    "        if np.issubdtype(origin_dtypes[i], np.number):\n",
    "            column = origin_dtypes.index[i]\n",
    "            min_max_dict[column] = {}\n",
    "            min_max_dict[column]['min'] = min(df[column].values)\n",
    "            min_max_dict[column]['max'] = max(df[column].values)\n",
    "    return min_max_dict"
   ]
  },
  {
   "cell_type": "code",
   "execution_count": 105,
   "metadata": {},
   "outputs": [],
   "source": [
    "def min_max_transfer(df, min_max_dict):\n",
    "    for column in df.columns:\n",
    "        if column in min_max_dict.keys():\n",
    "            for i in range(len(df)):\n",
    "                df.loc[i, column] = (data.loc[i, column] - min_max_dict[column]['min']) / \\\n",
    "                                    (min_max_dict[column]['max'] - \n",
    "                                     min_max_dict[column]['min'])"
   ]
  },
  {
   "cell_type": "code",
   "execution_count": null,
   "metadata": {
    "collapsed": true
   },
   "outputs": [],
   "source": []
  },
  {
   "cell_type": "markdown",
   "metadata": {},
   "source": [
    "# 1. Relief"
   ]
  },
  {
   "cell_type": "code",
   "execution_count": 166,
   "metadata": {
    "collapsed": true
   },
   "outputs": [],
   "source": [
    "def relief(data_df, target_name, origin_dtypes, tau):\n",
    "    \"\"\"\n",
    "    This function returns the selected features of a relief algorithm \n",
    "    for a binary classification problem. \n",
    "    It has four inputs:\n",
    "    1. data_df: the df of train data\n",
    "    2. target_name: string, the column name of target\n",
    "    3. origin_dtypes: the dtypes of each column\n",
    "    4. tau: the threshold of values of selected features\n",
    "    \"\"\"\n",
    "    \n",
    "    x, y = data_df.drop([target_name], axis=1), data_df[target_name]\n",
    "    features = list(x.columns)\n",
    "    selected_features = [] # store the selected features into list\n",
    "    \n",
    "    # obtain the subset of different classes\n",
    "    subset1, subset2 = x.iloc[y[y==0].index], x.iloc[y[y==1].index]\n",
    "    pairs_dict = {} # store the information of the nearest rows of each row\n",
    "    \n",
    "    # compute the nearest row for each row\n",
    "    for i in range(len(x)):\n",
    "        pairs_dict[i] = {}\n",
    "        row = x.iloc[i].values\n",
    "        \n",
    "        distance_intra, distance_inter = np.inf, np.inf\n",
    "\n",
    "        # define the subset of the same class and different class for each row\n",
    "        if y.iloc[i] == 0:\n",
    "            intra_subset = subset1\n",
    "            inter_subset = subset2\n",
    "        else:\n",
    "            intra_subset = subset2\n",
    "            inter_subset = subset1\n",
    "        # compute the distance of all other rows to the row i    \n",
    "        for j in range(len(x)):\n",
    "            # store the row index of the nearest row in the opposite class\n",
    "            if j in inter_subset.index:\n",
    "                d_inter = np.sum(row - x.iloc[j].values)**2\n",
    "                \n",
    "                if d_inter < distance_inter:\n",
    "                    distance_inter = d_inter\n",
    "                    pairs_dict[i]['inter'] = j\n",
    "            # store the row index of the nearest row within the same class    \n",
    "            elif j != i:\n",
    "                d_intra = np.sum((row - x.iloc[j].values)**2)\n",
    "                if d_intra < distance_intra:\n",
    "                    distance_intra = d_intra\n",
    "                    pairs_dict[i]['intra'] = j\n",
    "                \n",
    "                \n",
    "    # compute the delta value for each feature\n",
    "    for i in range(len(features)):\n",
    "        feature = features[i]\n",
    "        delta_i = 0\n",
    "        \n",
    "        # for numeric features:\n",
    "        if np.issubdtype(origin_dtypes[i], np.number):\n",
    "            \n",
    "            for n in range(len(x)): # for each row\n",
    "                \n",
    "                # get the info of nearest row\n",
    "                right_neigh, wrong_neigb = pairs_dict[n]['intra'], pairs_dict[n]['inter']\n",
    "                # update the delta value\n",
    "                delta_i -= (x.iloc[n][feature] - x.iloc[right_neigh][feature])**2\n",
    "                delta_i += (x.iloc[n][feature] - x.iloc[wrong_neigb][feature]) **2\n",
    "        else: # for categorical features\n",
    "            for n in range(len(x)): # for each row\n",
    "                # get the info of nearest row\n",
    "                right_neigh, wrong_neigb = pairs_dict[n]['intra'], pairs_dict[n]['inter']\n",
    "                \n",
    "                # update delta value\n",
    "                if x.iloc[n][feature] != x.iloc[right_neigh][feature]:\n",
    "                    delta_i -= 1\n",
    "                if x.iloc[n][feature] != x.iloc[wrong_neigb][feature]:\n",
    "                    delta_i += 1\n",
    "        # store the feature name if its delta is larger than threshold\n",
    "        if delta_i >= tau:\n",
    "            selected_features.append(feature)\n",
    "    \n",
    "    return selected_features \n"
   ]
  },
  {
   "cell_type": "markdown",
   "metadata": {},
   "source": [
    "# 2. Load Data"
   ]
  },
  {
   "cell_type": "code",
   "execution_count": 153,
   "metadata": {
    "collapsed": true
   },
   "outputs": [],
   "source": [
    "data = pd.read_csv('../../data/data.txt').drop(['Id'], axis=1)"
   ]
  },
  {
   "cell_type": "code",
   "execution_count": 154,
   "metadata": {
    "scrolled": true
   },
   "outputs": [
    {
     "data": {
      "text/html": [
       "<div>\n",
       "<style scoped>\n",
       "    .dataframe tbody tr th:only-of-type {\n",
       "        vertical-align: middle;\n",
       "    }\n",
       "\n",
       "    .dataframe tbody tr th {\n",
       "        vertical-align: top;\n",
       "    }\n",
       "\n",
       "    .dataframe thead th {\n",
       "        text-align: right;\n",
       "    }\n",
       "</style>\n",
       "<table border=\"1\" class=\"dataframe\">\n",
       "  <thead>\n",
       "    <tr style=\"text-align: right;\">\n",
       "      <th></th>\n",
       "      <th>color</th>\n",
       "      <th>root</th>\n",
       "      <th>sound</th>\n",
       "      <th>stripes</th>\n",
       "      <th>umbilical</th>\n",
       "      <th>touch</th>\n",
       "      <th>density</th>\n",
       "      <th>sugar</th>\n",
       "      <th>quality</th>\n",
       "    </tr>\n",
       "  </thead>\n",
       "  <tbody>\n",
       "    <tr>\n",
       "      <th>0</th>\n",
       "      <td>dark-green</td>\n",
       "      <td>roll-up</td>\n",
       "      <td>dull</td>\n",
       "      <td>clear</td>\n",
       "      <td>hollow</td>\n",
       "      <td>hard</td>\n",
       "      <td>0.697</td>\n",
       "      <td>0.460</td>\n",
       "      <td>good</td>\n",
       "    </tr>\n",
       "    <tr>\n",
       "      <th>1</th>\n",
       "      <td>pitch-dark</td>\n",
       "      <td>roll-up</td>\n",
       "      <td>dead</td>\n",
       "      <td>clear</td>\n",
       "      <td>hollow</td>\n",
       "      <td>hard</td>\n",
       "      <td>0.744</td>\n",
       "      <td>0.376</td>\n",
       "      <td>good</td>\n",
       "    </tr>\n",
       "    <tr>\n",
       "      <th>2</th>\n",
       "      <td>pitch-dark</td>\n",
       "      <td>roll-up</td>\n",
       "      <td>dull</td>\n",
       "      <td>clear</td>\n",
       "      <td>hollow</td>\n",
       "      <td>hard</td>\n",
       "      <td>0.634</td>\n",
       "      <td>0.264</td>\n",
       "      <td>good</td>\n",
       "    </tr>\n",
       "    <tr>\n",
       "      <th>3</th>\n",
       "      <td>dark-green</td>\n",
       "      <td>roll-up</td>\n",
       "      <td>dead</td>\n",
       "      <td>clear</td>\n",
       "      <td>hollow</td>\n",
       "      <td>hard</td>\n",
       "      <td>0.608</td>\n",
       "      <td>0.318</td>\n",
       "      <td>good</td>\n",
       "    </tr>\n",
       "    <tr>\n",
       "      <th>4</th>\n",
       "      <td>white</td>\n",
       "      <td>roll-up</td>\n",
       "      <td>dull</td>\n",
       "      <td>clear</td>\n",
       "      <td>hollow</td>\n",
       "      <td>hard</td>\n",
       "      <td>0.556</td>\n",
       "      <td>0.215</td>\n",
       "      <td>good</td>\n",
       "    </tr>\n",
       "  </tbody>\n",
       "</table>\n",
       "</div>"
      ],
      "text/plain": [
       "        color     root sound stripes umbilical touch  density  sugar quality\n",
       "0  dark-green  roll-up  dull   clear    hollow  hard    0.697  0.460    good\n",
       "1  pitch-dark  roll-up  dead   clear    hollow  hard    0.744  0.376    good\n",
       "2  pitch-dark  roll-up  dull   clear    hollow  hard    0.634  0.264    good\n",
       "3  dark-green  roll-up  dead   clear    hollow  hard    0.608  0.318    good\n",
       "4       white  roll-up  dull   clear    hollow  hard    0.556  0.215    good"
      ]
     },
     "execution_count": 154,
     "metadata": {},
     "output_type": "execute_result"
    }
   ],
   "source": [
    "data.head()"
   ]
  },
  {
   "cell_type": "code",
   "execution_count": 155,
   "metadata": {
    "collapsed": true
   },
   "outputs": [],
   "source": [
    "origin_dtypes = data.drop(['quality'],axis=1).dtypes"
   ]
  },
  {
   "cell_type": "code",
   "execution_count": 156,
   "metadata": {
    "collapsed": true
   },
   "outputs": [],
   "source": [
    "dummies_transfer(data, dummies_fit(data))"
   ]
  },
  {
   "cell_type": "code",
   "execution_count": 157,
   "metadata": {},
   "outputs": [
    {
     "data": {
      "text/html": [
       "<div>\n",
       "<style scoped>\n",
       "    .dataframe tbody tr th:only-of-type {\n",
       "        vertical-align: middle;\n",
       "    }\n",
       "\n",
       "    .dataframe tbody tr th {\n",
       "        vertical-align: top;\n",
       "    }\n",
       "\n",
       "    .dataframe thead th {\n",
       "        text-align: right;\n",
       "    }\n",
       "</style>\n",
       "<table border=\"1\" class=\"dataframe\">\n",
       "  <thead>\n",
       "    <tr style=\"text-align: right;\">\n",
       "      <th></th>\n",
       "      <th>color</th>\n",
       "      <th>root</th>\n",
       "      <th>sound</th>\n",
       "      <th>stripes</th>\n",
       "      <th>umbilical</th>\n",
       "      <th>touch</th>\n",
       "      <th>density</th>\n",
       "      <th>sugar</th>\n",
       "      <th>quality</th>\n",
       "    </tr>\n",
       "  </thead>\n",
       "  <tbody>\n",
       "    <tr>\n",
       "      <th>0</th>\n",
       "      <td>1</td>\n",
       "      <td>1</td>\n",
       "      <td>0</td>\n",
       "      <td>0</td>\n",
       "      <td>1</td>\n",
       "      <td>0</td>\n",
       "      <td>0.697</td>\n",
       "      <td>0.460</td>\n",
       "      <td>0</td>\n",
       "    </tr>\n",
       "    <tr>\n",
       "      <th>1</th>\n",
       "      <td>0</td>\n",
       "      <td>1</td>\n",
       "      <td>1</td>\n",
       "      <td>0</td>\n",
       "      <td>1</td>\n",
       "      <td>0</td>\n",
       "      <td>0.744</td>\n",
       "      <td>0.376</td>\n",
       "      <td>0</td>\n",
       "    </tr>\n",
       "    <tr>\n",
       "      <th>2</th>\n",
       "      <td>0</td>\n",
       "      <td>1</td>\n",
       "      <td>0</td>\n",
       "      <td>0</td>\n",
       "      <td>1</td>\n",
       "      <td>0</td>\n",
       "      <td>0.634</td>\n",
       "      <td>0.264</td>\n",
       "      <td>0</td>\n",
       "    </tr>\n",
       "    <tr>\n",
       "      <th>3</th>\n",
       "      <td>1</td>\n",
       "      <td>1</td>\n",
       "      <td>1</td>\n",
       "      <td>0</td>\n",
       "      <td>1</td>\n",
       "      <td>0</td>\n",
       "      <td>0.608</td>\n",
       "      <td>0.318</td>\n",
       "      <td>0</td>\n",
       "    </tr>\n",
       "    <tr>\n",
       "      <th>4</th>\n",
       "      <td>2</td>\n",
       "      <td>1</td>\n",
       "      <td>0</td>\n",
       "      <td>0</td>\n",
       "      <td>1</td>\n",
       "      <td>0</td>\n",
       "      <td>0.556</td>\n",
       "      <td>0.215</td>\n",
       "      <td>0</td>\n",
       "    </tr>\n",
       "  </tbody>\n",
       "</table>\n",
       "</div>"
      ],
      "text/plain": [
       "   color  root  sound  stripes  umbilical  touch  density  sugar  quality\n",
       "0      1     1      0        0          1      0    0.697  0.460        0\n",
       "1      0     1      1        0          1      0    0.744  0.376        0\n",
       "2      0     1      0        0          1      0    0.634  0.264        0\n",
       "3      1     1      1        0          1      0    0.608  0.318        0\n",
       "4      2     1      0        0          1      0    0.556  0.215        0"
      ]
     },
     "execution_count": 157,
     "metadata": {},
     "output_type": "execute_result"
    }
   ],
   "source": [
    "data.head()"
   ]
  },
  {
   "cell_type": "code",
   "execution_count": 158,
   "metadata": {},
   "outputs": [],
   "source": [
    "min_max_transfer(data, min_max_fit(data, origin_dtypes))"
   ]
  },
  {
   "cell_type": "code",
   "execution_count": 159,
   "metadata": {},
   "outputs": [
    {
     "data": {
      "text/html": [
       "<div>\n",
       "<style scoped>\n",
       "    .dataframe tbody tr th:only-of-type {\n",
       "        vertical-align: middle;\n",
       "    }\n",
       "\n",
       "    .dataframe tbody tr th {\n",
       "        vertical-align: top;\n",
       "    }\n",
       "\n",
       "    .dataframe thead th {\n",
       "        text-align: right;\n",
       "    }\n",
       "</style>\n",
       "<table border=\"1\" class=\"dataframe\">\n",
       "  <thead>\n",
       "    <tr style=\"text-align: right;\">\n",
       "      <th></th>\n",
       "      <th>color</th>\n",
       "      <th>root</th>\n",
       "      <th>sound</th>\n",
       "      <th>stripes</th>\n",
       "      <th>umbilical</th>\n",
       "      <th>touch</th>\n",
       "      <th>density</th>\n",
       "      <th>sugar</th>\n",
       "      <th>quality</th>\n",
       "    </tr>\n",
       "  </thead>\n",
       "  <tbody>\n",
       "    <tr>\n",
       "      <th>0</th>\n",
       "      <td>1</td>\n",
       "      <td>1</td>\n",
       "      <td>0</td>\n",
       "      <td>0</td>\n",
       "      <td>1</td>\n",
       "      <td>0</td>\n",
       "      <td>0.906188</td>\n",
       "      <td>1.000000</td>\n",
       "      <td>0</td>\n",
       "    </tr>\n",
       "    <tr>\n",
       "      <th>1</th>\n",
       "      <td>0</td>\n",
       "      <td>1</td>\n",
       "      <td>1</td>\n",
       "      <td>0</td>\n",
       "      <td>1</td>\n",
       "      <td>0</td>\n",
       "      <td>1.000000</td>\n",
       "      <td>0.799043</td>\n",
       "      <td>0</td>\n",
       "    </tr>\n",
       "    <tr>\n",
       "      <th>2</th>\n",
       "      <td>0</td>\n",
       "      <td>1</td>\n",
       "      <td>0</td>\n",
       "      <td>0</td>\n",
       "      <td>1</td>\n",
       "      <td>0</td>\n",
       "      <td>0.780439</td>\n",
       "      <td>0.531100</td>\n",
       "      <td>0</td>\n",
       "    </tr>\n",
       "    <tr>\n",
       "      <th>3</th>\n",
       "      <td>1</td>\n",
       "      <td>1</td>\n",
       "      <td>1</td>\n",
       "      <td>0</td>\n",
       "      <td>1</td>\n",
       "      <td>0</td>\n",
       "      <td>0.728543</td>\n",
       "      <td>0.660287</td>\n",
       "      <td>0</td>\n",
       "    </tr>\n",
       "    <tr>\n",
       "      <th>4</th>\n",
       "      <td>2</td>\n",
       "      <td>1</td>\n",
       "      <td>0</td>\n",
       "      <td>0</td>\n",
       "      <td>1</td>\n",
       "      <td>0</td>\n",
       "      <td>0.624750</td>\n",
       "      <td>0.413876</td>\n",
       "      <td>0</td>\n",
       "    </tr>\n",
       "  </tbody>\n",
       "</table>\n",
       "</div>"
      ],
      "text/plain": [
       "   color  root  sound  stripes  umbilical  touch   density     sugar  quality\n",
       "0      1     1      0        0          1      0  0.906188  1.000000        0\n",
       "1      0     1      1        0          1      0  1.000000  0.799043        0\n",
       "2      0     1      0        0          1      0  0.780439  0.531100        0\n",
       "3      1     1      1        0          1      0  0.728543  0.660287        0\n",
       "4      2     1      0        0          1      0  0.624750  0.413876        0"
      ]
     },
     "execution_count": 159,
     "metadata": {},
     "output_type": "execute_result"
    }
   ],
   "source": [
    "data.head()"
   ]
  },
  {
   "cell_type": "markdown",
   "metadata": {},
   "source": [
    "# 3. Train and Predict"
   ]
  },
  {
   "cell_type": "code",
   "execution_count": 169,
   "metadata": {},
   "outputs": [
    {
     "data": {
      "text/plain": [
       "['root', 'sound', 'stripes', 'umbilical', 'touch']"
      ]
     },
     "execution_count": 169,
     "metadata": {},
     "output_type": "execute_result"
    }
   ],
   "source": [
    "relief(data, 'quality', origin_dtypes, 1.5)"
   ]
  },
  {
   "cell_type": "code",
   "execution_count": null,
   "metadata": {
    "collapsed": true
   },
   "outputs": [],
   "source": []
  },
  {
   "cell_type": "code",
   "execution_count": null,
   "metadata": {
    "collapsed": true
   },
   "outputs": [],
   "source": []
  }
 ],
 "metadata": {
  "kernelspec": {
   "display_name": "Python 3",
   "language": "python",
   "name": "python3"
  },
  "language_info": {
   "codemirror_mode": {
    "name": "ipython",
    "version": 3
   },
   "file_extension": ".py",
   "mimetype": "text/x-python",
   "name": "python",
   "nbconvert_exporter": "python",
   "pygments_lexer": "ipython3",
   "version": "3.6.3"
  }
 },
 "nbformat": 4,
 "nbformat_minor": 2
}
