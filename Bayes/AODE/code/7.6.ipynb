{
 "cells": [
  {
   "cell_type": "markdown",
   "metadata": {},
   "source": [
    "# Problem 7.6\n",
    "# Implemetation of Semi-Naïve Bayes Classifier \n",
    "# Averaged One Dependent Estimator (AODE)"
   ]
  },
  {
   "cell_type": "code",
   "execution_count": 1,
   "metadata": {
    "collapsed": true
   },
   "outputs": [],
   "source": [
    "import pandas as pd\n",
    "import numpy as np\n",
    "import scipy.stats"
   ]
  },
  {
   "cell_type": "markdown",
   "metadata": {},
   "source": [
    "# 1. Conditional Probability"
   ]
  },
  {
   "cell_type": "markdown",
   "metadata": {},
   "source": [
    "- The prior probability of a class $\\hat{P} (c,x_{i})$ can be estimated as\n",
    "$$ \\hat{P} (c,x_{i}) = \\frac{|D_{c, x_{i}}| + 1}{|D|+ N_{i}} $$\n",
    "\n",
    "- The conditional probability $ \\hat{P} (x_{j}|c, x_{i}) $ can be estimated as\n",
    "$$ \\hat{P} (x_{j}|c, x_{i}) = \\frac{|D_{c,x_{i}, x_{j}}|+1}{|D_{c,x_{i}}| + N_{j}} $$\n",
    "\n",
    "or the PDF of the supposed distribution for continuous variables"
   ]
  },
  {
   "cell_type": "code",
   "execution_count": 118,
   "metadata": {
    "collapsed": true
   },
   "outputs": [],
   "source": [
    "def sample_prob(df_target, c):\n",
    "    \"\"\"\n",
    "    This function returns the prior probaility of a class, c, after Laplacian Correction\n",
    "    It has two inputs:\n",
    "    1. df_target: the train df column of target\n",
    "    2. c: value of class, c\n",
    "    \"\"\"\n",
    "    upper = sum([1 for e in df_target if e == c]) + 1\n",
    "    bottom = len(df_target) + len(set(df_target))\n",
    "    \n",
    "    return upper/bottom"
   ]
  },
  {
   "cell_type": "code",
   "execution_count": 4,
   "metadata": {
    "collapsed": true
   },
   "outputs": [],
   "source": [
    "def prior_prob(df_train,target_name, c, x_name, x_value, dtype):\n",
    "    \"\"\"\n",
    "    This function returns the prior probaility of a class, c, after Laplacian Correction\n",
    "    It has six inputs:\n",
    "    1. df_train: the train df \n",
    "    2. target_name: string, column name of target\n",
    "    3. c: value of class, c\n",
    "    4. x_name: string, column name of x\n",
    "    5. x_value: value of xi\n",
    "    6. dtype: the dtype of column x\n",
    "    \"\"\"\n",
    "    # for continuous features:\n",
    "    # p(c, xi) = p(c) * p(xi|c)\n",
    "    if np.issubdtype(dtype, np.number):\n",
    "        # calculate p(c)\n",
    "        p_c = sample_prob(df_train[target_name], c) \n",
    "        \n",
    "        # calculate p(xi|c)\n",
    "        d_c = df_train[df_train[target_name] == c]\n",
    "        u = np.mean(d_c[x_name])\n",
    "        sigma = np.std(d_c[x_name])\n",
    "        p_xi_c = scipy.stats.norm(u, sigma).pdf(x_value)\n",
    "        return p_c * p_xi_c\n",
    "    \n",
    "    # for categorical features    \n",
    "    else:\n",
    "        d_c_xi = len(df_train[(df_train[target_name]==c) & (df_train[x_name]==x_value)])\n",
    "        ni = len(set(df_train[target_name]))\n",
    "        return (d_c_xi+1)/(len(df_train) + ni)    "
   ]
  },
  {
   "cell_type": "code",
   "execution_count": 115,
   "metadata": {},
   "outputs": [],
   "source": [
    "def condition_prob(df_train, target_name, c, xi_info, xj_info):\n",
    "    \"\"\"\n",
    "    This function returns the conditional probability P(x_j|c, x_i)\n",
    "    It has five inputs:\n",
    "    1. df_train: the train df\n",
    "    2. target_name: string, the column name of target\n",
    "    3. c: the class vlaue\n",
    "    4. xi_info: a list of [xi_name, xi_value, xi_dtype]\n",
    "    5. xj_info: a list of [xj_name, xj_value, xj_dtype]\n",
    "    \"\"\"\n",
    "    [xi_name, xi_value, xi_dtype] = xi_info\n",
    "    [xj_name, xj_value, xj_dtype] = xj_info\n",
    "    \n",
    "    if not np.issubdtype(xj_dtype, np.number):\n",
    "        if not np.issubdtype(xi_dtype, np.number):\n",
    "            d_c_xi = df_train[(df_train[target_name]==c)&(df_train[xi_name]==xi_value)]\n",
    "        else:\n",
    "            array_i_bins = pd.cut(df_train[xi_name], 3)\n",
    "            selected_index = [i for i in range(len(array_i_bins)) \n",
    "                              if xi_value in array_i_bins[i]]\n",
    "            d_xi = df_train.iloc[selected_index]\n",
    "            d_c_xi = d_xi[d_xi[target_name]==c]\n",
    "        \n",
    "        n_j = len(set(df_train[df_train[xj_name]==xj_value][target_name]))\n",
    "        d_c_xi_xj = d_c_xi[d_c_xi[xj_name]==xj_value]\n",
    "        return (len(d_c_xi_xj)+1)/(len(d_c_xi)+n_j)\n",
    "    else:\n",
    "        if not np.issubdtype(xi_dtype, np.number):\n",
    "            d_c_xi = df_train[(df_train[target_name]==c)&(df_train[xi_name]==xi_value)]\n",
    "            u_xj = np.mean(d_c_xi[xj_name])\n",
    "            sigma_xj = np.std(d_c_xi[xj_name])\n",
    "            return scipy.stats.norm(u_xj, sigma_xj)\n",
    "        else: \n",
    "        #if np.issubdtype(xj_dtype, np.number):\n",
    "            d_c = df_train[(df_train[target_name]==c)]\n",
    "            u_i = np.mean(d_c[xi_name])\n",
    "            sigma_i = np.std(d_c[xi_name])\n",
    "            p_xi_c_norm = scipy.stats.norm(u_i, sigma_i)\n",
    "        \n",
    "            array_ij = np.vstack((d_c[xi_name].values, d_c[xj_name].values))\n",
    "            u_ij = np.mean(array_ij, axis=1)\n",
    "            cov_ij = np.cov(array_ij)\n",
    "            p_xj_xi_c_norm = scipy.stats.multivariate_normal(u_ij, cov_ij)\n",
    "            \n",
    "            return p_xi_c_norm, p_xj_xi_c_norm"
   ]
  },
  {
   "cell_type": "markdown",
   "metadata": {},
   "source": [
    "# 2. AODE"
   ]
  },
  {
   "cell_type": "code",
   "execution_count": 116,
   "metadata": {
    "collapsed": true
   },
   "outputs": [],
   "source": [
    "def aode(df_train, target_name, pred_var, m_value):\n",
    "    \"\"\"\n",
    "    This function return the dictionary of all the probabilities\n",
    "    It has four inputs:\n",
    "    1. df_train: train df, including target\n",
    "    2. target_name: string, the column name of target\n",
    "    3. pred_var: a row of validation variabble values\n",
    "    4. m_value: the threshold\n",
    "    \"\"\"\n",
    "    possible_class = list(set(df_train[target_name]))\n",
    "    variable_names = pred_var.columns\n",
    "    dtypes = pred_var.dtypes\n",
    "    \n",
    "    p = 0\n",
    "    predictions ={}\n",
    "    for c_i in possible_class:\n",
    "        p_i = 0\n",
    "        for i in range(len(pred_var.values[0])):\n",
    "            xi_info = [variable_names[i], \n",
    "                       pred_var.values[0][i], \n",
    "                       dtypes[i]]\n",
    "            if (not np.issubdtype(xi_info[2], np.number)) and \\\n",
    "            len(df_train[df_train[xi_info[0]]==xi_info[1]]) < m_value:\n",
    "                prob = 0\n",
    "            else:\n",
    "                prob = prior_prob(df_train,target_name, \n",
    "                                  c_i, xi_info[0], \n",
    "                                  xi_info[1], \n",
    "                                  xi_info[2])\n",
    "                for j in range(len(pred_var.values[0])):\n",
    "                    if i != j :\n",
    "                        xj_info = [variable_names[j], \n",
    "                                   pred_var.values[0][j], \n",
    "                                   dtypes[j]]\n",
    "                        cond_prob = condition_prob1(df_train, \n",
    "                                                   target_name, \n",
    "                                                   c_i, \n",
    "                                                   xi_info, \n",
    "                                                   xj_info)\n",
    "                        if not np.issubdtype(xj_info[2], np.number):\n",
    "                            prob *= cond_prob\n",
    "                        elif not np.issubdtype(xi_info[2], np.number):\n",
    "                            cond_prob = cond_prob.pdf(xj_info[1])\n",
    "                            prob *= cond_prob\n",
    "                        else:\n",
    "                            p_xji_c = cond_prob[1].pdf([xi_info[1], xj_info[1]])\n",
    "                            p_xi_c = cond_prob[0].pdf(xi_info[1])\n",
    "                            cond_prob = p_xji_c / p_xi_c\n",
    "                            prob *= cond_prob\n",
    "            p_i += prob\n",
    "            \n",
    "        predictions[c_i] = p_i    \n",
    "        if p_i > p:\n",
    "            p = p_i\n",
    "            prediction = c_i    \n",
    "    \n",
    "    return prediction, predictions"
   ]
  },
  {
   "cell_type": "markdown",
   "metadata": {},
   "source": [
    "# 4. Load Data and Prediction"
   ]
  },
  {
   "cell_type": "code",
   "execution_count": 5,
   "metadata": {
    "collapsed": true
   },
   "outputs": [],
   "source": [
    "data = pd.read_csv('../data/data.txt').drop(['Id'], axis=1)"
   ]
  },
  {
   "cell_type": "code",
   "execution_count": 6,
   "metadata": {
    "scrolled": true
   },
   "outputs": [
    {
     "data": {
      "text/html": [
       "<div>\n",
       "<style scoped>\n",
       "    .dataframe tbody tr th:only-of-type {\n",
       "        vertical-align: middle;\n",
       "    }\n",
       "\n",
       "    .dataframe tbody tr th {\n",
       "        vertical-align: top;\n",
       "    }\n",
       "\n",
       "    .dataframe thead th {\n",
       "        text-align: right;\n",
       "    }\n",
       "</style>\n",
       "<table border=\"1\" class=\"dataframe\">\n",
       "  <thead>\n",
       "    <tr style=\"text-align: right;\">\n",
       "      <th></th>\n",
       "      <th>color</th>\n",
       "      <th>root</th>\n",
       "      <th>sound</th>\n",
       "      <th>stripes</th>\n",
       "      <th>umbilical</th>\n",
       "      <th>touch</th>\n",
       "      <th>density</th>\n",
       "      <th>sugar</th>\n",
       "      <th>quality</th>\n",
       "    </tr>\n",
       "  </thead>\n",
       "  <tbody>\n",
       "    <tr>\n",
       "      <th>0</th>\n",
       "      <td>dark-green</td>\n",
       "      <td>roll-up</td>\n",
       "      <td>dull</td>\n",
       "      <td>clear</td>\n",
       "      <td>hollow</td>\n",
       "      <td>hard</td>\n",
       "      <td>0.697</td>\n",
       "      <td>0.460</td>\n",
       "      <td>good</td>\n",
       "    </tr>\n",
       "    <tr>\n",
       "      <th>1</th>\n",
       "      <td>pitch-dark</td>\n",
       "      <td>roll-up</td>\n",
       "      <td>dead</td>\n",
       "      <td>clear</td>\n",
       "      <td>hollow</td>\n",
       "      <td>hard</td>\n",
       "      <td>0.744</td>\n",
       "      <td>0.376</td>\n",
       "      <td>good</td>\n",
       "    </tr>\n",
       "    <tr>\n",
       "      <th>2</th>\n",
       "      <td>pitch-dark</td>\n",
       "      <td>roll-up</td>\n",
       "      <td>dull</td>\n",
       "      <td>clear</td>\n",
       "      <td>hollow</td>\n",
       "      <td>hard</td>\n",
       "      <td>0.634</td>\n",
       "      <td>0.264</td>\n",
       "      <td>good</td>\n",
       "    </tr>\n",
       "    <tr>\n",
       "      <th>3</th>\n",
       "      <td>dark-green</td>\n",
       "      <td>roll-up</td>\n",
       "      <td>dead</td>\n",
       "      <td>clear</td>\n",
       "      <td>hollow</td>\n",
       "      <td>hard</td>\n",
       "      <td>0.608</td>\n",
       "      <td>0.318</td>\n",
       "      <td>good</td>\n",
       "    </tr>\n",
       "    <tr>\n",
       "      <th>4</th>\n",
       "      <td>white</td>\n",
       "      <td>roll-up</td>\n",
       "      <td>dull</td>\n",
       "      <td>clear</td>\n",
       "      <td>hollow</td>\n",
       "      <td>hard</td>\n",
       "      <td>0.556</td>\n",
       "      <td>0.215</td>\n",
       "      <td>good</td>\n",
       "    </tr>\n",
       "  </tbody>\n",
       "</table>\n",
       "</div>"
      ],
      "text/plain": [
       "        color     root sound stripes umbilical touch  density  sugar quality\n",
       "0  dark-green  roll-up  dull   clear    hollow  hard    0.697  0.460    good\n",
       "1  pitch-dark  roll-up  dead   clear    hollow  hard    0.744  0.376    good\n",
       "2  pitch-dark  roll-up  dull   clear    hollow  hard    0.634  0.264    good\n",
       "3  dark-green  roll-up  dead   clear    hollow  hard    0.608  0.318    good\n",
       "4       white  roll-up  dull   clear    hollow  hard    0.556  0.215    good"
      ]
     },
     "execution_count": 6,
     "metadata": {},
     "output_type": "execute_result"
    }
   ],
   "source": [
    "data.head()"
   ]
  },
  {
   "cell_type": "code",
   "execution_count": 80,
   "metadata": {},
   "outputs": [],
   "source": [
    "vali = data.iloc[[0]].drop(['quality'],axis=1)"
   ]
  },
  {
   "cell_type": "code",
   "execution_count": 117,
   "metadata": {},
   "outputs": [
    {
     "data": {
      "text/plain": [
       "('good', {'bad': 0.00051651694867467068, 'good': 1.2183266607232781})"
      ]
     },
     "execution_count": 117,
     "metadata": {},
     "output_type": "execute_result"
    }
   ],
   "source": [
    "aode(data, 'quality', vali, 2)"
   ]
  },
  {
   "cell_type": "code",
   "execution_count": null,
   "metadata": {
    "collapsed": true
   },
   "outputs": [],
   "source": []
  }
 ],
 "metadata": {
  "kernelspec": {
   "display_name": "Python 3",
   "language": "python",
   "name": "python3"
  },
  "language_info": {
   "codemirror_mode": {
    "name": "ipython",
    "version": 3
   },
   "file_extension": ".py",
   "mimetype": "text/x-python",
   "name": "python",
   "nbconvert_exporter": "python",
   "pygments_lexer": "ipython3",
   "version": "3.6.3"
  }
 },
 "nbformat": 4,
 "nbformat_minor": 2
}
