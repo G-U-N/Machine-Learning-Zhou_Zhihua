{
 "cells": [
  {
   "cell_type": "code",
   "execution_count": 91,
   "metadata": {
    "collapsed": true
   },
   "outputs": [],
   "source": [
    "import numpy as np"
   ]
  },
  {
   "cell_type": "markdown",
   "metadata": {},
   "source": [
    "# 1. Linear Discriminant Analysis"
   ]
  },
  {
   "cell_type": "code",
   "execution_count": 130,
   "metadata": {
    "collapsed": true
   },
   "outputs": [],
   "source": [
    "def LDA(all_input):\n",
    "    n = all_input.shape[1] - 1\n",
    "    \n",
    "    # Compute within class mean\n",
    "    # using axis=0 to get a mean vector vertically\n",
    "    u0 = all_input[all_input[:, n] == 0].mean(axis=0)[:n] \n",
    "    u1 = all_input[all_input[:, n] == 1].mean(axis=0)[:n]\n",
    "    \n",
    "    # compute S_w : within class scatter matrix\n",
    "    s_w = np.zeros((n, n))\n",
    "    \n",
    "    for i in range(all_input.shape[0]):\n",
    "        if all_input[i][-1] == 0:\n",
    "            u_i = u0\n",
    "        elif all_input[i][-1] == 1:\n",
    "            u_i = u1\n",
    "        \n",
    "        # row -> cloumn vector\n",
    "        d = all_input[i, :n].reshape(n, 1) - u_i.reshape(n, 1)\n",
    "        s_w += np.dot(d, d.T)\n",
    "        \n",
    "    weights = np.dot(np.linalg.inv(s_w), (u0-u1).reshape(n,1))\n",
    "    \n",
    "    return weights\n",
    "    \n",
    "    "
   ]
  },
  {
   "cell_type": "markdown",
   "metadata": {},
   "source": [
    "# 2. Load the data"
   ]
  },
  {
   "cell_type": "code",
   "execution_count": 131,
   "metadata": {
    "collapsed": true
   },
   "outputs": [],
   "source": [
    "data = np.loadtxt('../data/watermelon_3a.csv', delimiter=\",\")"
   ]
  },
  {
   "cell_type": "code",
   "execution_count": 132,
   "metadata": {
    "collapsed": true
   },
   "outputs": [],
   "source": [
    "all_data = data[:, 1:]"
   ]
  },
  {
   "cell_type": "code",
   "execution_count": 133,
   "metadata": {},
   "outputs": [],
   "source": [
    "weights = LDA(all_data)"
   ]
  },
  {
   "cell_type": "code",
   "execution_count": 134,
   "metadata": {},
   "outputs": [
    {
     "data": {
      "text/plain": [
       "array([[ -6.62487509e-04],\n",
       "       [ -9.36728168e-01]])"
      ]
     },
     "execution_count": 134,
     "metadata": {},
     "output_type": "execute_result"
    }
   ],
   "source": [
    "weights"
   ]
  },
  {
   "cell_type": "code",
   "execution_count": null,
   "metadata": {
    "collapsed": true
   },
   "outputs": [],
   "source": []
  }
 ],
 "metadata": {
  "kernelspec": {
   "display_name": "Python 3",
   "language": "python",
   "name": "python3"
  },
  "language_info": {
   "codemirror_mode": {
    "name": "ipython",
    "version": 3
   },
   "file_extension": ".py",
   "mimetype": "text/x-python",
   "name": "python",
   "nbconvert_exporter": "python",
   "pygments_lexer": "ipython3",
   "version": "3.6.3"
  }
 },
 "nbformat": 4,
 "nbformat_minor": 2
}
