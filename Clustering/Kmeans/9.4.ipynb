{
 "cells": [
  {
   "cell_type": "markdown",
   "metadata": {},
   "source": [
    "# Problem 9.4\n",
    "# Implemetation of K-Means"
   ]
  },
  {
   "cell_type": "code",
   "execution_count": 92,
   "metadata": {
    "collapsed": true
   },
   "outputs": [],
   "source": [
    "import pandas as pd\n",
    "import numpy as np\n",
    "import copy\n",
    "import matplotlib.pyplot as plt"
   ]
  },
  {
   "cell_type": "markdown",
   "metadata": {},
   "source": [
    "# 1. K-Means Algorithm"
   ]
  },
  {
   "cell_type": "code",
   "execution_count": 90,
   "metadata": {
    "collapsed": true
   },
   "outputs": [],
   "source": [
    "def kmean(input_df, cluster_num, seed):\n",
    "    \"\"\"\n",
    "    This function returns n clusters from input_df.\n",
    "    It has three inputs:\n",
    "    1. input_df: the df of training data\n",
    "    2. cluster_num: integer, the number of clusters\n",
    "    3. seed: the seed for repulication\n",
    "    \"\"\"\n",
    "    np.random.seed(seed)\n",
    "    initial_index = np.random.choice(input_df.index, cluster_num, replace=False)\n",
    "    centroids = [input_df.loc[i].values for i in initial_index]\n",
    "    \n",
    "    cluster_output = {'init':[]}\n",
    "    cluster_dict = {}\n",
    "    \n",
    "    while cluster_output != cluster_dict:\n",
    "        cluster_output = copy.deepcopy(cluster_dict)\n",
    "    \n",
    "        cluster_dict = {}\n",
    "        for i in range(cluster_num):\n",
    "            cluster_dict[i] = []\n",
    "\n",
    "        for i in range(len(input_df)):\n",
    "            row = input_df.iloc[i].values\n",
    "            euclidean_distance = [np.sqrt(np.sum((row - centroids[j]) ** 2)) \n",
    "                                  for j in range(cluster_num)]\n",
    "            index_nearest_centroid = euclidean_distance.index(np.min(euclidean_distance))\n",
    "            cluster_dict[index_nearest_centroid].append(i)\n",
    "            \n",
    "        for k in cluster_dict:\n",
    "            vectors = input_df.iloc[cluster_dict[k]].values\n",
    "            centroids[k] = np.mean(vectors,axis=0)\n",
    "\n",
    "    return cluster_output  "
   ]
  },
  {
   "cell_type": "markdown",
   "metadata": {},
   "source": [
    "# 2. Train the Model"
   ]
  },
  {
   "cell_type": "code",
   "execution_count": 112,
   "metadata": {
    "collapsed": true
   },
   "outputs": [],
   "source": [
    "data = pd.read_csv('../../data/data4.txt', delimiter=' ')"
   ]
  },
  {
   "cell_type": "code",
   "execution_count": 93,
   "metadata": {
    "scrolled": true
   },
   "outputs": [
    {
     "data": {
      "text/plain": [
       "{0: [5, 7, 9, 10, 11, 14, 17, 18, 19, 22, 23, 24, 27, 29],\n",
       " 1: [0, 1, 3, 21, 25, 26, 28],\n",
       " 2: [2, 4, 6, 8, 12, 13, 15, 16, 20]}"
      ]
     },
     "execution_count": 93,
     "metadata": {},
     "output_type": "execute_result"
    }
   ],
   "source": [
    "k_means_cluster = kmean(data, 3, 0)\n",
    "k_means_cluster"
   ]
  },
  {
   "cell_type": "markdown",
   "metadata": {},
   "source": [
    "# 3. Visualization"
   ]
  },
  {
   "cell_type": "code",
   "execution_count": 103,
   "metadata": {},
   "outputs": [
    {
     "name": "stderr",
     "output_type": "stream",
     "text": [
      "/Users/shen/anaconda/envs/python36/lib/python3.6/site-packages/pandas/core/indexing.py:194: SettingWithCopyWarning: \n",
      "A value is trying to be set on a copy of a slice from a DataFrame\n",
      "\n",
      "See the caveats in the documentation: http://pandas.pydata.org/pandas-docs/stable/indexing.html#indexing-view-versus-copy\n",
      "  self._setitem_with_indexer(indexer, value)\n"
     ]
    }
   ],
   "source": [
    "data['class'] = 0\n",
    "for k in k_means_cluster:\n",
    "    data['class'].iloc[k_means_cluster[k]] = k"
   ]
  },
  {
   "cell_type": "code",
   "execution_count": 104,
   "metadata": {
    "scrolled": true
   },
   "outputs": [
    {
     "data": {
      "text/html": [
       "<div>\n",
       "<style scoped>\n",
       "    .dataframe tbody tr th:only-of-type {\n",
       "        vertical-align: middle;\n",
       "    }\n",
       "\n",
       "    .dataframe tbody tr th {\n",
       "        vertical-align: top;\n",
       "    }\n",
       "\n",
       "    .dataframe thead th {\n",
       "        text-align: right;\n",
       "    }\n",
       "</style>\n",
       "<table border=\"1\" class=\"dataframe\">\n",
       "  <thead>\n",
       "    <tr style=\"text-align: right;\">\n",
       "      <th></th>\n",
       "      <th>density</th>\n",
       "      <th>sugar</th>\n",
       "      <th>class</th>\n",
       "    </tr>\n",
       "  </thead>\n",
       "  <tbody>\n",
       "    <tr>\n",
       "      <th>0</th>\n",
       "      <td>0.697</td>\n",
       "      <td>0.460</td>\n",
       "      <td>1</td>\n",
       "    </tr>\n",
       "    <tr>\n",
       "      <th>1</th>\n",
       "      <td>0.774</td>\n",
       "      <td>0.376</td>\n",
       "      <td>1</td>\n",
       "    </tr>\n",
       "    <tr>\n",
       "      <th>2</th>\n",
       "      <td>0.634</td>\n",
       "      <td>0.264</td>\n",
       "      <td>2</td>\n",
       "    </tr>\n",
       "    <tr>\n",
       "      <th>3</th>\n",
       "      <td>0.608</td>\n",
       "      <td>0.318</td>\n",
       "      <td>1</td>\n",
       "    </tr>\n",
       "    <tr>\n",
       "      <th>4</th>\n",
       "      <td>0.556</td>\n",
       "      <td>0.215</td>\n",
       "      <td>2</td>\n",
       "    </tr>\n",
       "  </tbody>\n",
       "</table>\n",
       "</div>"
      ],
      "text/plain": [
       "   density  sugar  class\n",
       "0    0.697  0.460      1\n",
       "1    0.774  0.376      1\n",
       "2    0.634  0.264      2\n",
       "3    0.608  0.318      1\n",
       "4    0.556  0.215      2"
      ]
     },
     "execution_count": 104,
     "metadata": {},
     "output_type": "execute_result"
    }
   ],
   "source": [
    "data.head()"
   ]
  },
  {
   "cell_type": "code",
   "execution_count": 111,
   "metadata": {},
   "outputs": [
    {
     "data": {
      "image/png": "[encoded data removed]",
      "text/plain": [
       "<matplotlib.figure.Figure at 0x10c6a9400>"
      ]
     },
     "metadata": {},
     "output_type": "display_data"
    }
   ],
   "source": [
    "plt.scatter(data.density, data.sugar, c=data['class'], marker='o')\n",
    "plt.title('Cluster Result')\n",
    "plt.xlabel('density')\n",
    "plt.ylabel('sugar')\n",
    "plt.show()"
   ]
  },
  {
   "cell_type": "code",
   "execution_count": null,
   "metadata": {
    "collapsed": true
   },
   "outputs": [],
   "source": []
  }
 ],
 "metadata": {
  "kernelspec": {
   "display_name": "Python 3",
   "language": "python",
   "name": "python3"
  },
  "language_info": {
   "codemirror_mode": {
    "name": "ipython",
    "version": 3
   },
   "file_extension": ".py",
   "mimetype": "text/x-python",
   "name": "python",
   "nbconvert_exporter": "python",
   "pygments_lexer": "ipython3",
   "version": "3.6.3"
  }
 },
 "nbformat": 4,
 "nbformat_minor": 2
}
