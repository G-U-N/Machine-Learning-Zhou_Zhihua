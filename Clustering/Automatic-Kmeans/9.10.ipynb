{
 "cells": [
  {
   "cell_type": "markdown",
   "metadata": {},
   "source": [
    "# Problem 3.3 Implementation of Advanced K-Means¶"
   ]
  },
  {
   "cell_type": "code",
   "execution_count": 23,
   "metadata": {
    "collapsed": true
   },
   "outputs": [],
   "source": [
    "import pandas as pd\n",
    "import numpy as np\n",
    "import copy\n",
    "import matplotlib.pyplot as plt"
   ]
  },
  {
   "cell_type": "markdown",
   "metadata": {},
   "source": [
    "# 1. K-Means with automatically selecting K"
   ]
  },
  {
   "cell_type": "code",
   "execution_count": 4,
   "metadata": {
    "collapsed": true
   },
   "outputs": [],
   "source": [
    "def kmean(input_df, cluster_num, seed):\n",
    "    \"\"\"\n",
    "    This function returns n clusters from input_df.\n",
    "    It has three inputs:\n",
    "    1. input_df: the df of training data\n",
    "    2. cluster_num: integer, the number of clusters\n",
    "    3. seed: the seed for repulication\n",
    "    \"\"\"\n",
    "    np.random.seed(seed)\n",
    "    # randomly select n rows in df as initial centroids\n",
    "    initial_index = np.random.choice(input_df.index, cluster_num, replace=False)\n",
    "    centroids = [input_df.loc[i].values for i in initial_index]\n",
    "    \n",
    "    # initilize two dictionaries to store clustering information\n",
    "    cluster_output = {'init':[]}\n",
    "    cluster_dict = {}\n",
    "    \n",
    "    while cluster_output != cluster_dict: # when the new clustering \n",
    "                                          # is different from the previous one\n",
    "        # store the new clustering as the old one\n",
    "        cluster_output = copy.deepcopy(cluster_dict) \n",
    "        \n",
    "        # initilize the new clustering\n",
    "        cluster_dict = {}\n",
    "        for i in range(cluster_num):\n",
    "            cluster_dict[i] = []\n",
    "            \n",
    "        # update new clustering\n",
    "        for i in range(len(input_df)):\n",
    "            row = input_df.iloc[i].values\n",
    "            # calculate the euclidean distance of a point to each centroid\n",
    "            euclidean_distance = [np.sqrt(np.sum((row - centroids[j]) ** 2)) \n",
    "                                  for j in range(cluster_num)]\n",
    "            \n",
    "            # mark the point as the cluster of its nearest centroid\n",
    "            index_nearest_centroid = euclidean_distance.index(np.min(euclidean_distance))\n",
    "            cluster_dict[index_nearest_centroid].append(i)\n",
    "        \n",
    "        # update centroids    \n",
    "        for k in cluster_dict:\n",
    "            vectors = input_df.iloc[cluster_dict[k]].values\n",
    "            centroids[k] = np.mean(vectors,axis=0)\n",
    "\n",
    "    return cluster_output, centroids"
   ]
  },
  {
   "cell_type": "code",
   "execution_count": 55,
   "metadata": {
    "collapsed": true
   },
   "outputs": [],
   "source": [
    "def kmean_auto(input_df, k, threshold, seed):\n",
    "    \"\"\"\n",
    "    This function returns the clustering based on K-means Algorithm. It will automatically \n",
    "    select suitable number of clusters, K.\n",
    "    It has four inputs: \n",
    "    1. input_df: training df\n",
    "    2. ks: integer, the largest number of possible k\n",
    "    3. threshold: threshold for selecting k based the difference of accumulated distances\n",
    "    4. seed: integer, set the seed for repulication\n",
    "    \"\"\"\n",
    "    \n",
    "    # initilize a very large distance\n",
    "    distance = 1000*input_df.shape[0] * input_df.shape[1]\n",
    "                                    \n",
    "    # storing the calculated distance\n",
    "    distance_list = []\n",
    "    \n",
    "    # iterate through possible n clusters\n",
    "    for n in range(1, k+1):\n",
    "        distance_n = 0 \n",
    "        cluster_info, centroids = kmean(input_df, n, seed)\n",
    "        \n",
    "        # compute the sum of distance between each point to its centroid\n",
    "        for key in cluster_info:\n",
    "            vectors = input_df.iloc[cluster_info[key]].values\n",
    "            distance_n += np.sqrt(np.sum((vectors - centroids[key])**2))\n",
    "        \n",
    "        # store the sum of distance of n clusters to list\n",
    "        distance_list.append(distance_n)\n",
    "    \n",
    "    # select the number of cluster, n, when it is a turning point\n",
    "    second_distance_diff = distance_list[0] - distance_list[1]\n",
    "    for i in range(1, k-1):\n",
    "        # turning point is defined as the slop changing largely at this point\n",
    "        first_distance_diff = second_distance_diff\n",
    "        second_distance_diff = distance_list[i] - distance_list[i+1]\n",
    "        \n",
    "        if abs(first_distance_diff / second_distance_diff) > threshold:\n",
    "            select_point = i+1\n",
    "            cluster, centroids = kmean(input_df, select_point, seed)\n",
    "            break\n",
    "            \n",
    "    \n",
    "    return cluster, centroids, select_point, distance_list"
   ]
  },
  {
   "cell_type": "markdown",
   "metadata": {},
   "source": [
    "# 2. Load Data and Train"
   ]
  },
  {
   "cell_type": "code",
   "execution_count": 2,
   "metadata": {
    "collapsed": true
   },
   "outputs": [],
   "source": [
    "data = pd.read_csv('../../data/data4.txt', delimiter=' ')"
   ]
  },
  {
   "cell_type": "code",
   "execution_count": 32,
   "metadata": {},
   "outputs": [
    {
     "data": {
      "text/html": [
       "<div>\n",
       "<style scoped>\n",
       "    .dataframe tbody tr th:only-of-type {\n",
       "        vertical-align: middle;\n",
       "    }\n",
       "\n",
       "    .dataframe tbody tr th {\n",
       "        vertical-align: top;\n",
       "    }\n",
       "\n",
       "    .dataframe thead th {\n",
       "        text-align: right;\n",
       "    }\n",
       "</style>\n",
       "<table border=\"1\" class=\"dataframe\">\n",
       "  <thead>\n",
       "    <tr style=\"text-align: right;\">\n",
       "      <th></th>\n",
       "      <th>density</th>\n",
       "      <th>sugar</th>\n",
       "    </tr>\n",
       "  </thead>\n",
       "  <tbody>\n",
       "    <tr>\n",
       "      <th>0</th>\n",
       "      <td>0.697</td>\n",
       "      <td>0.460</td>\n",
       "    </tr>\n",
       "    <tr>\n",
       "      <th>1</th>\n",
       "      <td>0.774</td>\n",
       "      <td>0.376</td>\n",
       "    </tr>\n",
       "    <tr>\n",
       "      <th>2</th>\n",
       "      <td>0.634</td>\n",
       "      <td>0.264</td>\n",
       "    </tr>\n",
       "    <tr>\n",
       "      <th>3</th>\n",
       "      <td>0.608</td>\n",
       "      <td>0.318</td>\n",
       "    </tr>\n",
       "    <tr>\n",
       "      <th>4</th>\n",
       "      <td>0.556</td>\n",
       "      <td>0.215</td>\n",
       "    </tr>\n",
       "  </tbody>\n",
       "</table>\n",
       "</div>"
      ],
      "text/plain": [
       "   density  sugar\n",
       "0    0.697  0.460\n",
       "1    0.774  0.376\n",
       "2    0.634  0.264\n",
       "3    0.608  0.318\n",
       "4    0.556  0.215"
      ]
     },
     "execution_count": 32,
     "metadata": {},
     "output_type": "execute_result"
    }
   ],
   "source": [
    "data.head()"
   ]
  },
  {
   "cell_type": "code",
   "execution_count": 58,
   "metadata": {},
   "outputs": [
    {
     "data": {
      "image/png": "[encoded data removed]",
      "text/plain": [
       "<matplotlib.figure.Figure at 0x11665ab70>"
      ]
     },
     "metadata": {},
     "output_type": "display_data"
    }
   ],
   "source": [
    "possible_k = 9\n",
    "threshold = 6\n",
    "seed = 10\n",
    "cluster, centroids, select_point, distance_list = kmean_auto(data, \n",
    "                                                             possible_k, \n",
    "                                                             threshold, \n",
    "                                                             seed)\n",
    "\n",
    "plt.plot(range(1, possible_k+1), distance_list)\n",
    "plt.ylabel('distance')\n",
    "plt.xlabel('number of clusters')\n",
    "plt.title('Distance vs Clusters')\n",
    "plt.show()"
   ]
  },
  {
   "cell_type": "code",
   "execution_count": null,
   "metadata": {
    "collapsed": true
   },
   "outputs": [],
   "source": []
  }
 ],
 "metadata": {
  "kernelspec": {
   "display_name": "Python 3",
   "language": "python",
   "name": "python3"
  },
  "language_info": {
   "codemirror_mode": {
    "name": "ipython",
    "version": 3
   },
   "file_extension": ".py",
   "mimetype": "text/x-python",
   "name": "python",
   "nbconvert_exporter": "python",
   "pygments_lexer": "ipython3",
   "version": "3.6.3"
  }
 },
 "nbformat": 4,
 "nbformat_minor": 2
}
